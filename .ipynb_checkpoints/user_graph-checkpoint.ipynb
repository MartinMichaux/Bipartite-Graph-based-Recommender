{
 "cells": [
  {
   "cell_type": "markdown",
   "metadata": {},
   "source": [
    "# Graph implementation of the courses"
   ]
  },
  {
   "cell_type": "code",
   "execution_count": 1,
   "metadata": {
    "ExecuteTime": {
     "end_time": "2023-06-14T18:11:13.674082Z",
     "start_time": "2023-06-14T18:11:10.460663Z"
    }
   },
   "outputs": [],
   "source": [
    "import numpy as np\n",
    "import pandas as pd\n",
    "\n",
    "import networkx as nx\n",
    "from sklearn.metrics.pairwise import cosine_similarity\n",
    "\n",
    "from scipy.spatial.distance import cdist\n",
    "from sklearn.decomposition import PCA\n",
    "from scipy.stats import pearsonr"
   ]
  },
  {
   "cell_type": "code",
   "execution_count": 2,
   "metadata": {
    "ExecuteTime": {
     "end_time": "2023-06-14T18:11:16.459077Z",
     "start_time": "2023-06-14T18:11:13.673081Z"
    }
   },
   "outputs": [],
   "source": [
    "# Load the dataset\n",
    "df=pd.read_csv('data/Coursera_reviews.csv')"
   ]
  },
  {
   "cell_type": "markdown",
   "metadata": {},
   "source": [
    "## Meta-Data"
   ]
  },
  {
   "cell_type": "code",
   "execution_count": 3,
   "metadata": {
    "ExecuteTime": {
     "end_time": "2023-06-14T18:11:16.536082Z",
     "start_time": "2023-06-14T18:11:16.462079Z"
    }
   },
   "outputs": [
    {
     "name": "stdout",
     "output_type": "stream",
     "text": [
      "Number of rows: 1454711\n",
      "Number of columns: 5\n",
      "Column names: ['reviews', 'reviewers', 'date_reviews', 'rating', 'course_id']\n",
      "Data types:\n",
      "reviews         object\n",
      "reviewers       object\n",
      "date_reviews    object\n",
      "rating           int64\n",
      "course_id       object\n",
      "dtype: object\n",
      "Summary statistics:\n",
      "             rating\n",
      "count  1.454711e+06\n",
      "mean   4.696649e+00\n",
      "std    6.983271e-01\n",
      "min    1.000000e+00\n",
      "25%    5.000000e+00\n",
      "50%    5.000000e+00\n",
      "75%    5.000000e+00\n",
      "max    5.000000e+00\n"
     ]
    },
    {
     "data": {
      "text/html": [
       "<div>\n",
       "<style scoped>\n",
       "    .dataframe tbody tr th:only-of-type {\n",
       "        vertical-align: middle;\n",
       "    }\n",
       "\n",
       "    .dataframe tbody tr th {\n",
       "        vertical-align: top;\n",
       "    }\n",
       "\n",
       "    .dataframe thead th {\n",
       "        text-align: right;\n",
       "    }\n",
       "</style>\n",
       "<table border=\"1\" class=\"dataframe\">\n",
       "  <thead>\n",
       "    <tr style=\"text-align: right;\">\n",
       "      <th></th>\n",
       "      <th>reviews</th>\n",
       "      <th>reviewers</th>\n",
       "      <th>date_reviews</th>\n",
       "      <th>rating</th>\n",
       "      <th>course_id</th>\n",
       "    </tr>\n",
       "  </thead>\n",
       "  <tbody>\n",
       "    <tr>\n",
       "      <th>0</th>\n",
       "      <td>Pretty dry, but I was able to pass with just t...</td>\n",
       "      <td>By Robert S</td>\n",
       "      <td>Feb 12, 2020</td>\n",
       "      <td>4</td>\n",
       "      <td>google-cbrs-cpi-training</td>\n",
       "    </tr>\n",
       "    <tr>\n",
       "      <th>1</th>\n",
       "      <td>would be a better experience if the video and ...</td>\n",
       "      <td>By Gabriel E R</td>\n",
       "      <td>Sep 28, 2020</td>\n",
       "      <td>4</td>\n",
       "      <td>google-cbrs-cpi-training</td>\n",
       "    </tr>\n",
       "    <tr>\n",
       "      <th>2</th>\n",
       "      <td>Information was perfect! The program itself wa...</td>\n",
       "      <td>By Jacob D</td>\n",
       "      <td>Apr 08, 2020</td>\n",
       "      <td>4</td>\n",
       "      <td>google-cbrs-cpi-training</td>\n",
       "    </tr>\n",
       "    <tr>\n",
       "      <th>3</th>\n",
       "      <td>A few grammatical mistakes on test made me do ...</td>\n",
       "      <td>By Dale B</td>\n",
       "      <td>Feb 24, 2020</td>\n",
       "      <td>4</td>\n",
       "      <td>google-cbrs-cpi-training</td>\n",
       "    </tr>\n",
       "    <tr>\n",
       "      <th>4</th>\n",
       "      <td>Excellent course and the training provided was...</td>\n",
       "      <td>By Sean G</td>\n",
       "      <td>Jun 18, 2020</td>\n",
       "      <td>4</td>\n",
       "      <td>google-cbrs-cpi-training</td>\n",
       "    </tr>\n",
       "  </tbody>\n",
       "</table>\n",
       "</div>"
      ],
      "text/plain": [
       "                                             reviews       reviewers   \n",
       "0  Pretty dry, but I was able to pass with just t...     By Robert S  \\\n",
       "1  would be a better experience if the video and ...  By Gabriel E R   \n",
       "2  Information was perfect! The program itself wa...      By Jacob D   \n",
       "3  A few grammatical mistakes on test made me do ...       By Dale B   \n",
       "4  Excellent course and the training provided was...       By Sean G   \n",
       "\n",
       "   date_reviews  rating                 course_id  \n",
       "0  Feb 12, 2020       4  google-cbrs-cpi-training  \n",
       "1  Sep 28, 2020       4  google-cbrs-cpi-training  \n",
       "2  Apr 08, 2020       4  google-cbrs-cpi-training  \n",
       "3  Feb 24, 2020       4  google-cbrs-cpi-training  \n",
       "4  Jun 18, 2020       4  google-cbrs-cpi-training  "
      ]
     },
     "execution_count": 3,
     "metadata": {},
     "output_type": "execute_result"
    }
   ],
   "source": [
    "# Print out Basic Meta-Data about the dataset  \n",
    "\n",
    "# Print the number of rows and columns\n",
    "print(\"Number of rows:\", df.shape[0])\n",
    "print(\"Number of columns:\", df.shape[1])\n",
    "\n",
    "# Print the column names\n",
    "print(\"Column names:\", df.columns.tolist())\n",
    "\n",
    "# Print the data types of each column\n",
    "print(\"Data types:\")\n",
    "print(df.dtypes)\n",
    "\n",
    "# Print the summary statistics of numerical columns\n",
    "print(\"Summary statistics:\")\n",
    "print(df.describe())\n",
    "\n",
    "# Print the first few rows of the DataFrame\n",
    "df.head()"
   ]
  },
  {
   "cell_type": "markdown",
   "metadata": {},
   "source": [
    "remove the \"By\" in the reviewers name"
   ]
  },
  {
   "cell_type": "code",
   "execution_count": 4,
   "metadata": {
    "ExecuteTime": {
     "end_time": "2023-06-14T18:11:16.879079Z",
     "start_time": "2023-06-14T18:11:16.588081Z"
    }
   },
   "outputs": [],
   "source": [
    "df['reviewers'] = df['reviewers'].str[3:]"
   ]
  },
  {
   "cell_type": "markdown",
   "metadata": {},
   "source": [
    "## Pre-processing"
   ]
  },
  {
   "cell_type": "code",
   "execution_count": 5,
   "metadata": {
    "ExecuteTime": {
     "end_time": "2023-06-14T18:11:17.048076Z",
     "start_time": "2023-06-14T18:11:16.879079Z"
    }
   },
   "outputs": [
    {
     "name": "stdout",
     "output_type": "stream",
     "text": [
      "287808\n"
     ]
    }
   ],
   "source": [
    "print(len(df['reviewers'].unique()))"
   ]
  },
  {
   "cell_type": "markdown",
   "metadata": {},
   "source": [
    "Only keep a certain amount of students"
   ]
  },
  {
   "cell_type": "code",
   "execution_count": 6,
   "metadata": {
    "ExecuteTime": {
     "end_time": "2023-06-14T18:11:17.297078Z",
     "start_time": "2023-06-14T18:11:17.035081Z"
    }
   },
   "outputs": [
    {
     "name": "stdout",
     "output_type": "stream",
     "text": [
      "                                                  reviews     reviewers   \n",
      "0       Pretty dry, but I was able to pass with just t...      Robert S  \\\n",
      "1       would be a better experience if the video and ...   Gabriel E R   \n",
      "2       Information was perfect! The program itself wa...       Jacob D   \n",
      "3       A few grammatical mistakes on test made me do ...        Dale B   \n",
      "4       Excellent course and the training provided was...        Sean G   \n",
      "...                                                   ...           ...   \n",
      "149903                                   excellent course  PRASHANT K G   \n",
      "149904                                               Nice      Daniel V   \n",
      "149905                                               Nice      Daniel V   \n",
      "149906                                                fun       Felix D   \n",
      "149907                                                fun       Felix D   \n",
      "\n",
      "        date_reviews  rating                 course_id  \n",
      "0       Feb 12, 2020       4  google-cbrs-cpi-training  \n",
      "1       Sep 28, 2020       4  google-cbrs-cpi-training  \n",
      "2       Apr 08, 2020       4  google-cbrs-cpi-training  \n",
      "3       Feb 24, 2020       4  google-cbrs-cpi-training  \n",
      "4       Jun 18, 2020       4  google-cbrs-cpi-training  \n",
      "...              ...     ...                       ...  \n",
      "149903  Jun 09, 2020       5       computer-networking  \n",
      "149904  Feb 17, 2019       5       computer-networking  \n",
      "149905  Feb 17, 2019       5       computer-networking  \n",
      "149906  May 29, 2020       5       computer-networking  \n",
      "149907  May 29, 2020       5       computer-networking  \n",
      "\n",
      "[149908 rows x 5 columns]\n"
     ]
    }
   ],
   "source": [
    "# Determine the filtering criteria and desired number of users\n",
    "desired_user_count = 10000\n",
    "\n",
    "# Retrieve user information and reviews from the database\n",
    "desired_users = df['reviewers'].unique()[:desired_user_count]\n",
    "\n",
    "# Keep the selected users along with their reviews\n",
    "filtered_reviews = df[df['reviewers'].isin(desired_users)]\n",
    "filtered_reviews.reset_index(inplace=True,drop=True)\n",
    "\n",
    "# Print the filtered reviews\n",
    "print(filtered_reviews)"
   ]
  },
  {
   "cell_type": "markdown",
   "metadata": {},
   "source": [
    "Add the sentiment analysis to each review"
   ]
  },
  {
   "cell_type": "code",
   "execution_count": 14,
   "metadata": {
    "ExecuteTime": {
     "end_time": "2023-06-14T18:37:59.260513Z",
     "start_time": "2023-06-14T18:37:59.144515Z"
    }
   },
   "outputs": [
    {
     "name": "stdout",
     "output_type": "stream",
     "text": [
      "object\n",
      "reviews\n",
      "<class 'str'>    149902\n",
      "Name: count, dtype: int64\n",
      "object\n"
     ]
    }
   ],
   "source": [
    "filtered_reviews = filtered_reviews.dropna(subset=['reviews'])\n",
    "print(filtered_reviews['reviews'].dtype)\n",
    "print(filtered_reviews['reviews'].apply(type).value_counts())\n",
    "filtered_reviews['reviews'] = filtered_reviews['reviews'].astype(str)\n",
    "print(filtered_reviews['reviews'].dtype)\n",
    "filtered_reviews = filtered_reviews.dropna(subset=['reviews'])"
   ]
  },
  {
   "cell_type": "code",
   "execution_count": 15,
   "metadata": {
    "ExecuteTime": {
     "end_time": "2023-06-14T19:11:27.585573Z",
     "start_time": "2023-06-14T18:38:00.592562Z"
    }
   },
   "outputs": [
    {
     "name": "stderr",
     "output_type": "stream",
     "text": [
      "Some weights of the model checkpoint at cardiffnlp/twitter-roberta-base-sentiment-latest were not used when initializing RobertaForSequenceClassification: ['roberta.pooler.dense.bias', 'roberta.pooler.dense.weight']\n",
      "- This IS expected if you are initializing RobertaForSequenceClassification from the checkpoint of a model trained on another task or with another architecture (e.g. initializing a BertForSequenceClassification model from a BertForPreTraining model).\n",
      "- This IS NOT expected if you are initializing RobertaForSequenceClassification from the checkpoint of a model that you expect to be exactly identical (initializing a BertForSequenceClassification model from a BertForSequenceClassification model).\n"
     ]
    }
   ],
   "source": [
    "from sentiment_analysis import Sentiment_model\n",
    "\n",
    "filtered_reviews['positive'] = 0.0\n",
    "filtered_reviews['neutral'] = 0.0\n",
    "filtered_reviews['negative'] = 0.0\n",
    "\n",
    "sentiment_model = Sentiment_model()\n",
    "filtered_reviews = filtered_reviews.apply(sentiment_model.apply_review_sentiment, axis=1)"
   ]
  },
  {
   "cell_type": "markdown",
   "metadata": {},
   "source": [
    "Cluster students by common courses to optimize the code"
   ]
  },
  {
   "cell_type": "code",
   "execution_count": 16,
   "metadata": {
    "ExecuteTime": {
     "end_time": "2023-06-14T19:15:05.652403Z",
     "start_time": "2023-06-14T19:14:58.042906Z"
    }
   },
   "outputs": [],
   "source": [
    "# Create sets for each unique course containing users who reviewed the course\n",
    "\n",
    "course_user_sets = {}\n",
    "for course in filtered_reviews['course_id'].unique():\n",
    "    users = filtered_reviews.loc[filtered_reviews['course_id'] == course, 'reviewers'].tolist()\n",
    "    course_user_sets[course] = set(users)\n",
    "\n",
    "all_courses = filtered_reviews['course_id'].unique()\n",
    "all_users = filtered_reviews['reviewers'].unique()"
   ]
  },
  {
   "cell_type": "code",
   "execution_count": 17,
   "metadata": {
    "ExecuteTime": {
     "end_time": "2023-06-14T19:15:14.143286Z",
     "start_time": "2023-06-14T19:15:14.025288Z"
    }
   },
   "outputs": [],
   "source": [
    "# Remove user pairs occurring in one set from other sets\n",
    "for course1, users1 in course_user_sets.items():\n",
    "    for course2, users2 in course_user_sets.items():\n",
    "        if course1 != course2:\n",
    "            course_user_sets[course2] -= users1"
   ]
  },
  {
   "cell_type": "code",
   "execution_count": 18,
   "metadata": {
    "ExecuteTime": {
     "end_time": "2023-06-14T19:15:15.709084Z",
     "start_time": "2023-06-14T19:15:15.684495Z"
    }
   },
   "outputs": [],
   "source": [
    "# Using a list comprehension to make a list of the keys to be deleted\n",
    "# (keys having value in 3.)\n",
    "delete = [key for key in course_user_sets if len(course_user_sets[key])==0]\n",
    " \n",
    "# delete the key/s\n",
    "for key in delete:\n",
    "    del course_user_sets[key]"
   ]
  },
  {
   "cell_type": "markdown",
   "metadata": {},
   "source": [
    "In case a user has several reviews per course, only keep the last review"
   ]
  },
  {
   "cell_type": "code",
   "execution_count": 19,
   "metadata": {
    "ExecuteTime": {
     "end_time": "2023-06-14T19:15:19.276320Z",
     "start_time": "2023-06-14T19:15:18.982323Z"
    }
   },
   "outputs": [
    {
     "data": {
      "text/html": [
       "<div>\n",
       "<style scoped>\n",
       "    .dataframe tbody tr th:only-of-type {\n",
       "        vertical-align: middle;\n",
       "    }\n",
       "\n",
       "    .dataframe tbody tr th {\n",
       "        vertical-align: top;\n",
       "    }\n",
       "\n",
       "    .dataframe thead th {\n",
       "        text-align: right;\n",
       "    }\n",
       "</style>\n",
       "<table border=\"1\" class=\"dataframe\">\n",
       "  <thead>\n",
       "    <tr style=\"text-align: right;\">\n",
       "      <th></th>\n",
       "      <th>reviews</th>\n",
       "      <th>reviewers</th>\n",
       "      <th>date_reviews</th>\n",
       "      <th>rating</th>\n",
       "      <th>course_id</th>\n",
       "      <th>positive</th>\n",
       "      <th>neutral</th>\n",
       "      <th>negative</th>\n",
       "    </tr>\n",
       "  </thead>\n",
       "  <tbody>\n",
       "    <tr>\n",
       "      <th>0</th>\n",
       "      <td>The part on predictive analytics and the case ...</td>\n",
       "      <td>Roberto C</td>\n",
       "      <td>Apr 01, 2016</td>\n",
       "      <td>3</td>\n",
       "      <td>wharton-customer-analytics</td>\n",
       "      <td>0.194603</td>\n",
       "      <td>0.402684</td>\n",
       "      <td>0.402713</td>\n",
       "    </tr>\n",
       "    <tr>\n",
       "      <th>1</th>\n",
       "      <td>Great Course, looking forward to the rest of t...</td>\n",
       "      <td>Omar K</td>\n",
       "      <td>Apr 01, 2016</td>\n",
       "      <td>4</td>\n",
       "      <td>introduction-to-software-product-management</td>\n",
       "      <td>0.977196</td>\n",
       "      <td>0.018081</td>\n",
       "      <td>0.004723</td>\n",
       "    </tr>\n",
       "    <tr>\n",
       "      <th>2</th>\n",
       "      <td>I struggled with some of the instruction as I ...</td>\n",
       "      <td>Janny v R J</td>\n",
       "      <td>Apr 01, 2016</td>\n",
       "      <td>3</td>\n",
       "      <td>python</td>\n",
       "      <td>0.009783</td>\n",
       "      <td>0.173361</td>\n",
       "      <td>0.816856</td>\n",
       "    </tr>\n",
       "    <tr>\n",
       "      <th>3</th>\n",
       "      <td>Concepts are explained in clear and efficient ...</td>\n",
       "      <td>Shivam S</td>\n",
       "      <td>Apr 01, 2017</td>\n",
       "      <td>4</td>\n",
       "      <td>principles-of-macroeconomics</td>\n",
       "      <td>0.346211</td>\n",
       "      <td>0.598413</td>\n",
       "      <td>0.055376</td>\n",
       "    </tr>\n",
       "    <tr>\n",
       "      <th>4</th>\n",
       "      <td>Very informative. I like the additional resour...</td>\n",
       "      <td>Sharon D</td>\n",
       "      <td>Apr 01, 2017</td>\n",
       "      <td>5</td>\n",
       "      <td>childrens-rights</td>\n",
       "      <td>0.978591</td>\n",
       "      <td>0.018083</td>\n",
       "      <td>0.003326</td>\n",
       "    </tr>\n",
       "  </tbody>\n",
       "</table>\n",
       "</div>"
      ],
      "text/plain": [
       "                                             reviews    reviewers   \n",
       "0  The part on predictive analytics and the case ...    Roberto C  \\\n",
       "1  Great Course, looking forward to the rest of t...       Omar K   \n",
       "2  I struggled with some of the instruction as I ...  Janny v R J   \n",
       "3  Concepts are explained in clear and efficient ...     Shivam S   \n",
       "4  Very informative. I like the additional resour...     Sharon D   \n",
       "\n",
       "   date_reviews  rating                                    course_id   \n",
       "0  Apr 01, 2016       3                   wharton-customer-analytics  \\\n",
       "1  Apr 01, 2016       4  introduction-to-software-product-management   \n",
       "2  Apr 01, 2016       3                                       python   \n",
       "3  Apr 01, 2017       4                 principles-of-macroeconomics   \n",
       "4  Apr 01, 2017       5                             childrens-rights   \n",
       "\n",
       "   positive   neutral  negative  \n",
       "0  0.194603  0.402684  0.402713  \n",
       "1  0.977196  0.018081  0.004723  \n",
       "2  0.009783  0.173361  0.816856  \n",
       "3  0.346211  0.598413  0.055376  \n",
       "4  0.978591  0.018083  0.003326  "
      ]
     },
     "execution_count": 19,
     "metadata": {},
     "output_type": "execute_result"
    }
   ],
   "source": [
    "# order by date_reviews to keep most recent duplicated review\n",
    "filtered_reviews = filtered_reviews.sort_values(by='date_reviews')\n",
    "\n",
    "# delete duplicate reviews from same user for the same course and keep the most recent one\n",
    "duplicate_rows = filtered_reviews[filtered_reviews.duplicated(['reviewers', 'course_id'], keep=False)]\n",
    "\n",
    "filtered_reviews = filtered_reviews.drop_duplicates(['reviewers', 'course_id'],keep='last')\n",
    "filtered_reviews.reset_index(drop=True,inplace=True)\n",
    "filtered_reviews.head()"
   ]
  },
  {
   "cell_type": "markdown",
   "metadata": {},
   "source": [
    "## Graph creation"
   ]
  },
  {
   "cell_type": "code",
   "execution_count": null,
   "metadata": {
    "ExecuteTime": {
     "end_time": "2023-06-14T19:47:06.959818Z",
     "start_time": "2023-06-14T19:15:28.026371Z"
    }
   },
   "outputs": [],
   "source": [
    "# Initialize an empty graph with user nodes\n",
    "graph = nx.Graph()\n",
    "\n",
    "for i in range(len(all_users)):\n",
    "    user_id = i\n",
    "    user_name = all_users[i]\n",
    "    courses = filtered_reviews['course_id'].loc[filtered_reviews['reviewers']==user_name]\n",
    "    \n",
    "    # ratings = filtered_reviews['rating'].loc[(filtered_reviews['reviewers'] == user_name) & (filtered_reviews['course_id'].isin(courses))].tolist()\n",
    "    # positive_sentiments = filtered_reviews['positive'].loc[(filtered_reviews['reviewers'] == user_name) & (filtered_reviews['course_id'].isin(courses))].tolist()\n",
    "    # neutral_sentiments = filtered_reviews['neutral'].loc[(filtered_reviews['reviewers'] == user_name) & (filtered_reviews['course_id'].isin(courses))].tolist()\n",
    "    # negative_sentiments = filtered_reviews['negative'].loc[(filtered_reviews['reviewers'] == user_name) & (filtered_reviews['course_id'].isin(courses))].tolist()   \n",
    "    \n",
    "    ratings = []\n",
    "    positive_sentiments = []\n",
    "    neutral_sentiments = []\n",
    "    negative_sentiments = []\n",
    "    \n",
    "    for course in courses:\n",
    "        rating = filtered_reviews['rating'].loc[(filtered_reviews['reviewers'] == user_name) & (filtered_reviews['course_id'] == course)].tolist()\n",
    "        positive_sentiment = filtered_reviews['positive'].loc[(filtered_reviews['reviewers'] == user_name) & (filtered_reviews['course_id'] == course)].tolist()\n",
    "        neutral_sentiment = filtered_reviews['neutral'].loc[(filtered_reviews['reviewers'] == user_name) & (filtered_reviews['course_id'] == course)].tolist()\n",
    "        negative_sentiment = filtered_reviews['negative'].loc[(filtered_reviews['reviewers'] == user_name) & (filtered_reviews['course_id'] == course)].tolist()\n",
    "\n",
    "        if rating:\n",
    "            ratings.append(rating[0])\n",
    "        if positive_sentiment:\n",
    "            positive_sentiments.append(positive_sentiment[0])\n",
    "        if neutral_sentiment:\n",
    "            neutral_sentiments.append(neutral_sentiment[0])\n",
    "        if negative_sentiment:\n",
    "            negative_sentiments.append(negative_sentiment[0])\n",
    "\n",
    "    graph.add_node(user_name,ratings = ratings, courses=courses,positive_sentiments=positive_sentiments,\n",
    "                   neutral_sentiments=neutral_sentiments,negative_sentiments=negative_sentiments)\n",
    "\n",
    "threshold_rating = 0.05\n",
    "threshold_positive = 0.05\n",
    "threshold_neutral = 0.05\n",
    "threshold_negative = 0.05\n",
    "# Set the minimum number of threshold crossings required\n",
    "min_threshold_crossings = 3\n",
    "\n",
    "similarity_thresholds = [threshold_rating,\n",
    "                         threshold_positive,\n",
    "                         threshold_neutral,\n",
    "                         threshold_negative]\n",
    "\n",
    "# Calculate similarity matrix and add edges to the graph\n",
    "for course in course_user_sets.items():\n",
    "    \n",
    "    course_name = course[0]\n",
    "    users = list(course[1])\n",
    "    \n",
    "    df_course = filtered_reviews[filtered_reviews['reviewers'].isin(users)]\n",
    "    \n",
    "    rating_pivot_table = pd.pivot_table(df_course, values='rating', index='reviewers', columns='course_id', fill_value=0)\n",
    "    positive_pivot_table = pd.pivot_table(df_course, values='positive', index='reviewers', columns='course_id', fill_value=0)\n",
    "    negative_pivot_table = pd.pivot_table(df_course, values='negative', index='reviewers', columns='course_id', fill_value=0)\n",
    "    neutral_pivot_table = pd.pivot_table(df_course, values='neutral', index='reviewers', columns='course_id', fill_value=0)\n",
    "    \n",
    "    rating_similarity_matrix = cdist(rating_pivot_table, rating_pivot_table, metric='canberra')\n",
    "    positive_similarity_matrix = cosine_similarity(positive_pivot_table)\n",
    "    negative_similarity_matrix = cosine_similarity(negative_pivot_table)\n",
    "    neutral_similarity_matrix = cosine_similarity(neutral_pivot_table)\n",
    "    \n",
    "    users_in_this_course = list(rating_pivot_table.index)\n",
    "    # Add the edges to the graph based on similarity scores\n",
    "    for i in range(len(users)-1):\n",
    "        for j in range(i + 1, len(users)):\n",
    "            # Check if the nodes already exist in the graph\n",
    "            if users[i] in graph.nodes() and users[j] in graph.nodes():\n",
    "                similarity_scores = [1/(1+rating_similarity_matrix[i, j]),\n",
    "                                     positive_similarity_matrix[i][j],\n",
    "                                     negative_similarity_matrix[i][j],\n",
    "                                     neutral_similarity_matrix[i][j]]\n",
    "                weights = np.array([0.5, 0.166, 0.166, 0.166])  # assume rating similarity is twice as important\n",
    "                overall_similarity = np.average(similarity_scores, weights=weights)\n",
    "\n",
    "                # print(1/(1+rating_similarity_matrix[i, j]),\n",
    "                #                      positive_similarity_matrix[i][j],\n",
    "                #                      negative_similarity_matrix[i][j],\n",
    "                #                      neutral_similarity_matrix[i][j])\n",
    "\n",
    "                # Count the number of threshold crossings\n",
    "                threshold_crossings = sum(score > threshold for score, threshold in zip(similarity_scores, similarity_thresholds))\n",
    "                # print(threshold_crossings)\n",
    "                if threshold_crossings >= min_threshold_crossings:\n",
    "                    graph.add_edge(users_in_this_course[i], users_in_this_course[j], weight=overall_similarity)\n",
    "                    print(\"Weighted overall similarity: \", overall_similarity)"
   ]
  },
  {
   "cell_type": "code",
   "execution_count": 21,
   "metadata": {
    "ExecuteTime": {
     "end_time": "2023-06-14T19:49:29.649630Z",
     "start_time": "2023-06-14T19:49:29.489631Z"
    }
   },
   "outputs": [
    {
     "name": "stdout",
     "output_type": "stream",
     "text": [
      "Graph with 10000 nodes and 12961725 edges\n",
      "Sparsity: 0.7407395739573958\n"
     ]
    }
   ],
   "source": [
    "print(graph)\n",
    "\n",
    "def get_sparsity(G):\n",
    "    num_nodes = len(G.nodes())\n",
    "    num_edges = len(G.edges())\n",
    "    return 1.0 - (2.0 * num_edges) / (num_nodes * (num_nodes - 1))\n",
    "\n",
    "print(\"Sparsity:\", get_sparsity(graph))"
   ]
  },
  {
   "cell_type": "code",
   "execution_count": 22,
   "metadata": {
    "ExecuteTime": {
     "end_time": "2023-06-14T19:50:18.603692Z",
     "start_time": "2023-06-14T19:50:18.579637Z"
    }
   },
   "outputs": [],
   "source": [
    "for course_node, course_attrs in graph.nodes(data=True):\n",
    "    if len(course_attrs)==0:\n",
    "        print(course_attrs,course_node)"
   ]
  },
  {
   "cell_type": "code",
   "execution_count": 23,
   "metadata": {
    "ExecuteTime": {
     "end_time": "2023-06-14T19:51:43.862991Z",
     "start_time": "2023-06-14T19:50:25.406550Z"
    }
   },
   "outputs": [],
   "source": [
    "import pickle\n",
    "\n",
    "file_path = \"graphs/user_graph.pickle\"\n",
    "\n",
    "with open(file_path, \"wb\") as file:\n",
    "    pickle.dump(graph, file)"
   ]
  },
  {
   "cell_type": "markdown",
   "metadata": {},
   "source": [
    "### Check correctness of graph"
   ]
  },
  {
   "cell_type": "code",
   "execution_count": 24,
   "metadata": {
    "ExecuteTime": {
     "end_time": "2023-06-14T19:52:06.389767Z",
     "start_time": "2023-06-14T19:52:06.356769Z"
    }
   },
   "outputs": [
    {
     "name": "stdout",
     "output_type": "stream",
     "text": [
      "{'ratings': [4, 5, 2, 5, 5, 5, 4, 3, 5, 5, 5, 5, 5, 5, 5, 2, 5, 4, 4, 4, 5, 1, 5, 5, 5, 5, 5, 5, 5, 5, 5, 5, 4, 5, 5, 5, 5, 5, 5, 4, 5, 1, 5, 5, 3, 5, 5, 5, 5], 'courses': 70                              indigenous-canada\n",
      "2274                      python-operating-system\n",
      "2484     wharton-introduction-spreadsheets-models\n",
      "3211              python-programming-introduction\n",
      "5117                               nanotechnology\n",
      "6010                             machine-learning\n",
      "6723              linear-algebra-machine-learning\n",
      "9116                        big-data-introduction\n",
      "9121                            probability-intro\n",
      "10989                       programming-languages\n",
      "11572                                smart-cities\n",
      "11616                        duke-programming-web\n",
      "11755                                      python\n",
      "13088                         grammar-punctuation\n",
      "13721                        quantitative-methods\n",
      "14462                   python-data-visualization\n",
      "17350                         what-is-datascience\n",
      "18350                         computer-networking\n",
      "19244         classification-vector-spaces-in-nlp\n",
      "22505                       data-scientists-tools\n",
      "22755                                nand2tetris2\n",
      "22763                     python-machine-learning\n",
      "24507      html-css-javascript-for-web-developers\n",
      "26296                               global-energy\n",
      "27483                         positive-psychology\n",
      "28335                               craft-of-plot\n",
      "28336                                 python-data\n",
      "28339                            python-databases\n",
      "28342                         python-network-data\n",
      "28787         cloud-infrastructure-design-process\n",
      "28986                         python-crash-course\n",
      "31206                                 big-history\n",
      "33658                               os-power-user\n",
      "34781                      gte-sustainable-cities\n",
      "36778                                    introcss\n",
      "36912                    google-cbrs-cpi-training\n",
      "37141               neural-networks-deep-learning\n",
      "37147              practical-time-series-analysis\n",
      "38681                       learning-how-to-learn\n",
      "38786                gcp-big-data-ml-fundamentals\n",
      "41180                        strategic-management\n",
      "41343                              childnutrition\n",
      "41421                   the-science-of-well-being\n",
      "43150           renewable-energy-entrepreneurship\n",
      "43406                        python-data-analysis\n",
      "43748                            project-planning\n",
      "44126                            learn-to-program\n",
      "44481              technical-support-fundamentals\n",
      "46108                                 negotiation\n",
      "Name: course_id, dtype: object, 'positive_sentiments': [0.9659888744354248, 0.9839043617248535, 0.008846458047628403, 0.9676112532615662, 0.9433833360671997, 0.9760773777961731, 0.06905525177717209, 0.030983420088887215, 0.9676530957221985, 0.9755375981330872, 0.9590573310852051, 0.835368812084198, 0.9672128558158875, 0.9703014492988586, 0.9698711037635803, 0.013988054357469082, 0.9276735186576843, 0.943140983581543, 0.029846644029021263, 0.11774080991744995, 0.9559745192527771, 0.06271365284919739, 0.955681324005127, 0.5509137511253357, 0.9826449751853943, 0.975182056427002, 0.9801388382911682, 0.9812308549880981, 0.9858906269073486, 0.9126644134521484, 0.9903289675712585, 0.9102790355682373, 0.1363392174243927, 0.9538756012916565, 0.9600627422332764, 0.9501999616622925, 0.982287585735321, 0.8357197046279907, 0.6542032957077026, 0.8448662161827087, 0.8004628419876099, 0.007842364721000195, 0.9741503596305847, 0.9654709696769714, 0.016191689297556877, 0.952894389629364, 0.9675565958023071, 0.9200719594955444, 0.9652591943740845], 'neutral_sentiments': [0.028731854632496834, 0.011418439447879791, 0.13983671367168427, 0.02751179225742817, 0.052469804883003235, 0.020823262631893158, 0.7999018430709839, 0.2372802346944809, 0.0285835862159729, 0.021161649376153946, 0.03607046231627464, 0.15412311255931854, 0.02853085659444332, 0.02157627046108246, 0.026408616453409195, 0.20180761814117432, 0.06301762908697128, 0.05046861246228218, 0.5750035047531128, 0.6384642720222473, 0.0396941602230072, 0.25387367606163025, 0.0389815978705883, 0.37067070603370667, 0.012952812947332859, 0.01948467642068863, 0.016309021040797234, 0.013396204449236393, 0.009268374182283878, 0.07233518362045288, 0.006618080195039511, 0.08363056182861328, 0.47486311197280884, 0.0412798635661602, 0.03592129424214363, 0.043032482266426086, 0.013069025240838528, 0.15992383658885956, 0.3165551424026489, 0.1117887794971466, 0.19136542081832886, 0.07789234817028046, 0.022378060966730118, 0.03095955401659012, 0.17526651918888092, 0.042006541043519974, 0.027508849278092384, 0.07554810494184494, 0.027362465858459473], 'negative_sentiments': [0.005279258359223604, 0.004677180200815201, 0.8513168692588806, 0.004876966588199139, 0.004146837163716555, 0.0030993670225143433, 0.13104289770126343, 0.7317363619804382, 0.003763339249417186, 0.0033006949815899134, 0.004872191231697798, 0.010508101433515549, 0.004256263375282288, 0.008122271858155727, 0.0037202551029622555, 0.7842043042182922, 0.009308839216828346, 0.006390363909304142, 0.39514991641044617, 0.24379485845565796, 0.004331361968070269, 0.6834126710891724, 0.005337052047252655, 0.07841549813747406, 0.004402176942676306, 0.005333241540938616, 0.003552105976268649, 0.005372993648052216, 0.0048409742303192616, 0.015000465326011181, 0.0030529845971614122, 0.0060904305428266525, 0.38879767060279846, 0.004844534210860729, 0.0040159933269023895, 0.006767560727894306, 0.004643373191356659, 0.004356415942311287, 0.029241500422358513, 0.043345026671886444, 0.008171730674803257, 0.9142652153968811, 0.003471576841548085, 0.0035695356782525778, 0.8085418343544006, 0.005099096801131964, 0.004934546072036028, 0.004379883408546448, 0.00737837003543973]}\n"
     ]
    }
   ],
   "source": [
    "# Specify the node for which you want to find the neighborhood\n",
    "node = 'Robert S'\n",
    "\n",
    "print(graph.nodes[node])\n"
   ]
  },
  {
   "cell_type": "code",
   "execution_count": 25,
   "metadata": {
    "ExecuteTime": {
     "end_time": "2023-06-14T19:52:13.549917Z",
     "start_time": "2023-06-14T19:52:09.516122Z"
    }
   },
   "outputs": [],
   "source": [
    "reviews=pd.read_csv('data/Coursera_reviews.csv')"
   ]
  },
  {
   "cell_type": "code",
   "execution_count": 26,
   "metadata": {
    "ExecuteTime": {
     "end_time": "2023-06-14T19:52:15.638639Z",
     "start_time": "2023-06-14T19:52:15.610618Z"
    }
   },
   "outputs": [
    {
     "name": "stdout",
     "output_type": "stream",
     "text": [
      "                                        course_id  rating\n",
      "68                       google-cbrs-cpi-training       5\n",
      "61346                         computer-networking       4\n",
      "99731                         python-crash-course       5\n",
      "146632              neural-networks-deep-learning       5\n",
      "166021                        what-is-datascience       5\n",
      "202955     html-css-javascript-for-web-developers       5\n",
      "230765                                negotiation       5\n",
      "265706                      learning-how-to-learn       5\n",
      "303775                                python-data       5\n",
      "346606                              os-power-user       4\n",
      "397584                           project-planning       5\n",
      "433492        classification-vector-spaces-in-nlp       4\n",
      "438562            linear-algebra-machine-learning       4\n",
      "445247                       python-data-analysis       4\n",
      "497017                             childnutrition       1\n",
      "541210                      data-scientists-tools       4\n",
      "583184                        python-network-data       5\n",
      "668569                    python-operating-system       5\n",
      "670408               gcp-big-data-ml-fundamentals       4\n",
      "706884                       duke-programming-web       5\n",
      "820766                        grammar-punctuation       5\n",
      "841514                              craft-of-plot       5\n",
      "856740                           learn-to-program       5\n",
      "876727                          probability-intro       5\n",
      "887901                           python-databases       5\n",
      "897150                        positive-psychology       5\n",
      "965356                              global-energy       5\n",
      "1026787  wharton-introduction-spreadsheets-models       2\n",
      "1062669                    gte-sustainable-cities       5\n",
      "1114947                 python-data-visualization       2\n",
      "1157191                              smart-cities       5\n",
      "1170900           python-programming-introduction       5\n",
      "1206052                      quantitative-methods       5\n",
      "1221769                                  introcss       5\n",
      "1228612                     programming-languages       5\n",
      "1229569                               big-history       5\n",
      "1247704                              nand2tetris2       5\n",
      "1249617         renewable-energy-entrepreneurship       5\n",
      "1252268       cloud-infrastructure-design-process       5\n",
      "1262982                   python-machine-learning       1\n",
      "1274895                     big-data-introduction       3\n",
      "1287452            practical-time-series-analysis       5\n",
      "1294374                            nanotechnology       5\n",
      "1326499                      strategic-management       5\n",
      "1378551                          machine-learning       5\n",
      "1392716                         indigenous-canada       4\n",
      "1411674                 the-science-of-well-being       5\n",
      "1430648            technical-support-fundamentals       5\n",
      "1453827                                    python       5\n"
     ]
    }
   ],
   "source": [
    "print(reviews[['course_id','rating']].loc[(reviews['reviewers']=='By Robert S')].drop_duplicates(['course_id'],keep='last'))"
   ]
  },
  {
   "cell_type": "code",
   "execution_count": null,
   "metadata": {},
   "outputs": [],
   "source": []
  }
 ],
 "metadata": {
  "kernelspec": {
   "display_name": "Python 3 (ipykernel)",
   "language": "python",
   "name": "python3"
  },
  "language_info": {
   "codemirror_mode": {
    "name": "ipython",
    "version": 3
   },
   "file_extension": ".py",
   "mimetype": "text/x-python",
   "name": "python",
   "nbconvert_exporter": "python",
   "pygments_lexer": "ipython3",
   "version": "3.9.13"
  }
 },
 "nbformat": 4,
 "nbformat_minor": 2
}
