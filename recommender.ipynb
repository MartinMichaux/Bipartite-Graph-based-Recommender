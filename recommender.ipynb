{
 "cells": [
  {
   "cell_type": "code",
   "execution_count": 16,
   "metadata": {
    "ExecuteTime": {
     "start_time": "2023-06-15T13:04:31.157823Z",
     "end_time": "2023-06-15T13:04:32.505152Z"
    },
    "collapsed": true
   },
   "outputs": [],
   "source": [
    "import pickle\n",
    "import networkx as nx\n",
    "from node2vec import Node2Vec\n",
    "from sklearn.metrics.pairwise import cosine_similarity\n",
    "import numpy as np\n",
    "from collections import defaultdict\n",
    "import copy\n",
    "import matplotlib.pyplot as plt"
   ]
  },
  {
   "cell_type": "code",
   "execution_count": 2,
   "metadata": {
    "ExecuteTime": {
     "start_time": "2023-06-15T00:34:25.420044Z",
     "end_time": "2023-06-15T00:34:26.755820Z"
    }
   },
   "outputs": [],
   "source": [
    "with open(r\"./graphs/bipartite_graph.pickle\", \"rb\") as input_file:\n",
    "        bipartite_graph = pickle.load(input_file)"
   ]
  },
  {
   "cell_type": "code",
   "execution_count": 3,
   "metadata": {
    "ExecuteTime": {
     "start_time": "2023-06-15T00:34:28.250410Z",
     "end_time": "2023-06-15T00:34:28.309412Z"
    }
   },
   "outputs": [
    {
     "name": "stdout",
     "output_type": "stream",
     "text": [
      "Graph with 1527 nodes and 347929 edges\n"
     ]
    }
   ],
   "source": [
    "print(bipartite_graph)"
   ]
  },
  {
   "cell_type": "code",
   "execution_count": 4,
   "metadata": {
    "ExecuteTime": {
     "start_time": "2023-06-15T00:34:38.880428Z",
     "end_time": "2023-06-15T00:34:39.023428Z"
    }
   },
   "outputs": [],
   "source": [
    "def split_train_test(bipartite_graph, test_size=0.2):\n",
    "    training_graph = bipartite_graph.copy()\n",
    "    test_edges = []\n",
    "\n",
    "    user_nodes = {node for node, data in bipartite_graph.nodes(data=True) if data['bipartite'] == 1}\n",
    "    course_nodes = set(bipartite_graph) - user_nodes\n",
    "\n",
    "    for user in user_nodes:\n",
    "        neighbors = [node for node in bipartite_graph.neighbors(user) if node in course_nodes]\n",
    "        if neighbors:  # Check if the user has rated any course\n",
    "            num_test = max(1, int(test_size * len(neighbors)))  # Ensure at least 1 test example per user\n",
    "\n",
    "            test_neighbors = np.random.choice(neighbors, size=num_test, replace=False)\n",
    "            test_edges.extend([(user, course) for course in test_neighbors])\n",
    "\n",
    "            for neighbor in test_neighbors:\n",
    "                if training_graph.has_edge(user, neighbor):  # Check if edge exists before removing\n",
    "                    training_graph.remove_edge(user, neighbor)\n",
    "\n",
    "    return training_graph, test_edges\n",
    "\n",
    "\n"
   ]
  },
  {
   "cell_type": "code",
   "execution_count": 5,
   "metadata": {
    "ExecuteTime": {
     "start_time": "2023-06-15T00:34:39.643284Z",
     "end_time": "2023-06-15T00:34:39.705286Z"
    }
   },
   "outputs": [],
   "source": [
    "def evaluate_model(test_edges, training_graph, recommendations, top_n):\n",
    "    hits = 0\n",
    "    precision_scores = []\n",
    "    recall_scores = []\n",
    "    f1_scores = []\n",
    "    dcg_scores = []\n",
    "\n",
    "    for user, courses in recommendations.items():\n",
    "        user_test_courses = [course for user_test, course in test_edges if user_test == user]\n",
    "\n",
    "        if not user_test_courses:\n",
    "            continue\n",
    "\n",
    "        user_training_courses = [course for course in training_graph.neighbors(user) if training_graph.nodes[course]['bipartite'] == 0]\n",
    "        rec_courses = [course for course, score in courses[:top_n] if course not in user_training_courses]\n",
    "        hits += len(set(user_test_courses) & set(rec_courses))\n",
    "\n",
    "        # Calculate Precision, Recall and F1 score\n",
    "        tp = len(set(user_test_courses) & set(rec_courses))\n",
    "        fp = len(set(rec_courses) - set(user_test_courses))\n",
    "        fn = len(set(user_test_courses) - set(rec_courses))\n",
    "\n",
    "        precision = tp / (tp + fp) if (tp + fp) > 0 else 0\n",
    "        recall = tp / (tp + fn) if (tp + fn) > 0 else 0\n",
    "        f1 = 2 * ((precision * recall) / (precision + recall)) if (precision + recall) > 0 else 0\n",
    "\n",
    "        precision_scores.append(precision)\n",
    "        recall_scores.append(recall)\n",
    "        f1_scores.append(f1)\n",
    "\n",
    "        # Calculate Normalized Discounted Cumulative Gain (NDCG)\n",
    "        dcg = sum([int(rec_courses[i] in user_test_courses) / np.log2(i + 2) for i in range(min(top_n, len(rec_courses)))])\n",
    "        idcg = sum([1 / np.log2(i + 2) for i in range(min(top_n, len(user_test_courses)))])\n",
    "        ndcg = dcg / idcg if idcg > 0 else 0\n",
    "        dcg_scores.append(ndcg)\n",
    "\n",
    "    hit_rate = hits / len(test_edges)\n",
    "    mean_precision = np.mean(precision_scores)\n",
    "    mean_recall = np.mean(recall_scores)\n",
    "    mean_f1 = np.mean(f1_scores)\n",
    "    mean_ndcg = np.mean(dcg_scores)\n",
    "\n",
    "    return hit_rate, mean_precision, mean_recall, mean_f1, mean_ndcg\n"
   ]
  },
  {
   "cell_type": "markdown",
   "metadata": {},
   "source": [
    "## Personalised PageRank"
   ]
  },
  {
   "cell_type": "code",
   "execution_count": 6,
   "metadata": {
    "ExecuteTime": {
     "start_time": "2023-06-15T00:34:45.643060Z",
     "end_time": "2023-06-15T00:34:45.766062Z"
    }
   },
   "outputs": [],
   "source": [
    "def remove_same_type_edges(bipartite_graph):\n",
    "    user_item_graph = bipartite_graph.copy()\n",
    "\n",
    "    # Create a list to store the edges to remove\n",
    "    edges_to_remove = []\n",
    "\n",
    "    # Iterate over the edges\n",
    "    for edge in user_item_graph.edges():\n",
    "        # Check if the nodes belong to the same bipartite set\n",
    "        if user_item_graph.nodes[edge[0]]['bipartite'] == user_item_graph.nodes[edge[1]]['bipartite']:\n",
    "            edges_to_remove.append(edge)\n",
    "\n",
    "    # Remove the edges\n",
    "    user_item_graph.remove_edges_from(edges_to_remove)\n",
    "\n",
    "    return user_item_graph"
   ]
  },
  {
   "cell_type": "code",
   "execution_count": 9,
   "metadata": {
    "ExecuteTime": {
     "start_time": "2023-06-15T01:03:22.312844Z",
     "end_time": "2023-06-15T01:19:59.738769Z"
    }
   },
   "outputs": [
    {
     "name": "stdout",
     "output_type": "stream",
     "text": [
      "Hit Rate:  0.4083333333333333\n",
      "Mean Precision:  0.235016835016835\n",
      "Mean Recall:  0.6047286720013992\n",
      "Mean F1-Score:  0.3187198099319311\n",
      "Mean NDCG:  0.6125243254619626\n"
     ]
    }
   ],
   "source": [
    "def calculate_ppr(bipartite_graph, alpha=0.85, max_iter=100):\n",
    "    ppr_dict = {}\n",
    "\n",
    "    # Extract user nodes from the bipartite graph\n",
    "    user_nodes = {node for node, attr in bipartite_graph.nodes(data=True) if attr['bipartite'] == 1}\n",
    "\n",
    "    for user_node in user_nodes:\n",
    "        # Create a personalization dict where only the current user_node has a non-zero value\n",
    "        personalization = {node: 0 for node in bipartite_graph.nodes()}\n",
    "        personalization[user_node] = 1\n",
    "\n",
    "        # Compute personalized PageRank\n",
    "        ppr = nx.pagerank(bipartite_graph, alpha=alpha, personalization=personalization, max_iter=max_iter, weight='weight')\n",
    "\n",
    "        # Filter out user nodes and retain only course nodes\n",
    "        ppr_dict[user_node] = {node: rank for node, rank in ppr.items() if bipartite_graph.nodes[node]['bipartite'] == 0}\n",
    "\n",
    "    return ppr_dict\n",
    "\n",
    "def recommend_courses(ppr_dict, bipartite_graph, user_node):\n",
    "    recommendations = {}\n",
    "\n",
    "    # Select courses the user has already taken\n",
    "    taken_courses = {course for course in bipartite_graph.neighbors(user_node) if bipartite_graph.nodes[course]['bipartite'] == 0}\n",
    "\n",
    "    # Look at each similar user and promote courses that are highly ranked by the similar user\n",
    "    for similar_user_node, edge_data in bipartite_graph[user_node].items():\n",
    "        if bipartite_graph.nodes[similar_user_node]['bipartite'] == 1:  # Ensure the node is a user node\n",
    "            for course_node, ppr_score in ppr_dict[similar_user_node].items():\n",
    "                # Increase the recommendation score of the course based on the PPR score and the user similarity\n",
    "                # if course_node not in taken_courses:\n",
    "                recommendations[course_node] = (recommendations.get(course_node, 0) + ppr_score) * edge_data['weight']\n",
    "\n",
    "    # Look at each course the user has rated and promote similar courses\n",
    "    for course_node, edge_data in bipartite_graph[user_node].items():\n",
    "        if bipartite_graph.nodes[course_node]['bipartite'] == 0:  # Ensure the node is a course node\n",
    "            sentiment = edge_data['positive_sentiment'] - edge_data['negative_sentiment']\n",
    "            for similar_course_node in bipartite_graph[course_node]:\n",
    "                # Increase the recommendation score of the similar course based on the PPR score, course similarity, and sentiments\n",
    "                if similar_course_node not in recommendations:\n",
    "                    recommendations[similar_course_node] = edge_data['rating'] * sentiment * ppr_dict[user_node].get(similar_course_node, 0)\n",
    "\n",
    "    return recommendations\n",
    "\n",
    "\n",
    "# ppr_dict = calculate_ppr(bipartite_graph)\n",
    "# recommendations = {user_node: recommend_courses(ppr_dict, bipartite_graph, user_node) for user_node in ppr_dict}\n",
    "# Step 1: Split data into training set and test set\n",
    "training_graph, test_edges = split_train_test(bipartite_graph, test_size=0.2)\n",
    "\n",
    "# Step 2: Generate recommendations based on training data\n",
    "ppr_dict = calculate_ppr(training_graph)\n",
    "recommendations = {user_node: sorted(recommend_courses(ppr_dict, training_graph, user_node).items(), key=lambda x: x[1], reverse=True) for user_node in ppr_dict}\n",
    "\n",
    "# Step 3: Evaluate the model on the test set\n",
    "hit_rate, mean_precision, mean_recall, mean_f1, mean_ndcg = evaluate_model(test_edges, training_graph, recommendations, top_n=3)\n",
    "\n",
    "print(\"Hit Rate: \", hit_rate)\n",
    "print(\"Mean Precision: \", mean_precision)\n",
    "print(\"Mean Recall: \", mean_recall)\n",
    "print(\"Mean F1-Score: \", mean_f1)\n",
    "print(\"Mean NDCG: \", mean_ndcg)\n"
   ]
  },
  {
   "cell_type": "markdown",
   "metadata": {},
   "source": [
    "## Collaborative Filtering User-User"
   ]
  },
  {
   "cell_type": "code",
   "execution_count": 10,
   "metadata": {
    "ExecuteTime": {
     "start_time": "2023-06-15T10:41:53.595818Z",
     "end_time": "2023-06-15T10:41:53.617820Z"
    }
   },
   "outputs": [],
   "source": [
    "def recommend_courses_user_based(bipartite_graph, user_node):\n",
    "    recommendations = defaultdict(int)\n",
    "\n",
    "    # Get the courses that the user has already taken\n",
    "    taken_courses = {course for course in bipartite_graph.neighbors(user_node) if bipartite_graph.nodes[course]['bipartite'] == 0}\n",
    "\n",
    "    # For each similar user...\n",
    "    for similar_user in bipartite_graph[user_node]:\n",
    "        # Ensure the node is a user node\n",
    "        if bipartite_graph.nodes[similar_user]['bipartite'] == 1:\n",
    "            similarity = bipartite_graph[user_node][similar_user]['weight']  # similarity between users\n",
    "            # ...get the courses that they have taken...\n",
    "            other_courses = {course for course in bipartite_graph.neighbors(similar_user) if bipartite_graph.nodes[course]['bipartite'] == 0}\n",
    "            # ...and for each course that the similar user has taken and the user hasn't...\n",
    "            for course in other_courses - taken_courses:\n",
    "                # ...increment the recommendation score for that course by the similarity of the users\n",
    "                recommendations[course] += similarity\n",
    "\n",
    "    return recommendations\n"
   ]
  },
  {
   "cell_type": "code",
   "execution_count": 11,
   "metadata": {
    "ExecuteTime": {
     "start_time": "2023-06-15T10:41:57.985365Z",
     "end_time": "2023-06-15T10:43:51.391656Z"
    }
   },
   "outputs": [
    {
     "name": "stdout",
     "output_type": "stream",
     "text": [
      "User Based CF\n",
      "Hit Rate:  0.4967948717948718\n",
      "Mean Precision:  0.2609427609427609\n",
      "Mean Recall:  0.674473939360303\n",
      "Mean F1-Score:  0.35818285085072044\n",
      "Mean NDCG:  0.6894268809407134\n",
      "Item Based CF\n",
      "Hit Rate:  0.008974358974358974\n",
      "Mean Precision:  0.0047138047138047135\n",
      "Mean Recall:  0.01044472502805836\n",
      "Mean F1-Score:  0.005897572213361687\n",
      "Mean NDCG:  0.00699591672974343\n"
     ]
    }
   ],
   "source": [
    "# Step 1: Split data into training set and test set\n",
    "training_graph, test_edges = split_train_test(bipartite_graph, test_size=0.2)\n",
    "\n",
    "# Step 2: Generate recommendations based on training data\n",
    "recommendations_user_cf = {user_node: sorted(recommend_courses_user_based(training_graph, user_node).items(), key=lambda x: x[1], reverse=True) for user_node in training_graph.nodes() if training_graph.nodes[user_node]['bipartite'] == 1}\n",
    "\n",
    "\n",
    "# Step 3: Evaluate the model on the test set\n",
    "hit_rate, mean_precision, mean_recall, mean_f1, mean_ndcg = evaluate_model(test_edges, training_graph, recommendations_user_cf, top_n=3)\n",
    "print(\"User Based CF\")\n",
    "print(\"Hit Rate: \", hit_rate)\n",
    "print(\"Mean Precision: \", mean_precision)\n",
    "print(\"Mean Recall: \", mean_recall)\n",
    "print(\"Mean F1-Score: \", mean_f1)\n",
    "print(\"Mean NDCG: \", mean_ndcg)\n",
    "\n",
    "recommendation_item_cf = {user_node: sorted(recommend_courses_item_based(training_graph, user_node).items(), key=lambda x: x[1], reverse=True) for user_node in training_graph.nodes() if training_graph.nodes[user_node]['bipartite'] == 1}\n",
    "\n",
    "hit_rate, mean_precision, mean_recall, mean_f1, mean_ndcg = evaluate_model(test_edges, training_graph, recommendation_item_cf, top_n=3)\n",
    "print(\"Item Based CF\")\n",
    "print(\"Hit Rate: \", hit_rate)\n",
    "print(\"Mean Precision: \", mean_precision)\n",
    "print(\"Mean Recall: \", mean_recall)\n",
    "print(\"Mean F1-Score: \", mean_f1)\n",
    "print(\"Mean NDCG: \", mean_ndcg)"
   ]
  },
  {
   "cell_type": "markdown",
   "metadata": {},
   "source": [
    "## Cold Start check\n",
    "We are going to compare if a global PageRank would perform better than just recommending the most popular elements(approach that CF has to take when the user has no history)"
   ]
  },
  {
   "cell_type": "code",
   "execution_count": 12,
   "metadata": {
    "ExecuteTime": {
     "start_time": "2023-06-15T12:42:42.152448Z",
     "end_time": "2023-06-15T12:42:42.154450Z"
    }
   },
   "outputs": [],
   "source": [
    "def recommend_courses_global_ppr(bipartite_graph):\n",
    "    # Compute global PageRank\n",
    "    global_pr = nx.pagerank(bipartite_graph, alpha=0.85, max_iter=1000000, weight='weight')\n",
    "\n",
    "    # Filter out user nodes and retain only course nodes\n",
    "    global_pr = {node: rank for node, rank in global_pr.items() if bipartite_graph.nodes[node]['bipartite'] == 0}\n",
    "\n",
    "    # Return the courses sorted by their PageRank score (high to low)\n",
    "    return sorted(global_pr.items(), key=lambda x: x[1], reverse=True)\n",
    "\n",
    "def recommend_most_popular_courses(bipartite_graph):\n",
    "    # Count the number of users who have taken each course\n",
    "    course_popularity = {course: len(list(bipartite_graph.neighbors(course))) for course in bipartite_graph.nodes() if bipartite_graph.nodes[course]['bipartite'] == 0}\n",
    "\n",
    "    # Return the courses sorted by their popularity (high to low)\n",
    "    return sorted(course_popularity.items(), key=lambda x: x[1], reverse=True)\n"
   ]
  },
  {
   "cell_type": "code",
   "execution_count": 18,
   "outputs": [
    {
     "name": "stdout",
     "output_type": "stream",
     "text": [
      "Average Global PPR Hit Rate:  0.4882179487179487\n",
      "Average Popular Courses Hit Rate:  0.4636987179487179\n"
     ]
    },
    {
     "data": {
      "text/plain": "<Figure size 640x480 with 1 Axes>",
      "image/png": "[encoded data removed]"
     },
     "metadata": {},
     "output_type": "display_data"
    }
   ],
   "source": [
    "n_iter = 100\n",
    "\n",
    "# Lists to store hit rates for each method and each iteration\n",
    "hit_rates_ppr = []\n",
    "hit_rates_popular = []\n",
    "\n",
    "for _ in range(n_iter):\n",
    "    # Split the data\n",
    "    training_graph, test_edges = split_train_test(bipartite_graph, test_size=0.2)\n",
    "\n",
    "    # Generate recommendations based on training data\n",
    "    recommendations_ppr = [course for course, score in recommend_courses_global_ppr(training_graph)[:10]]\n",
    "    recommendations_popular = [course for course, score in recommend_most_popular_courses(training_graph)[:10]]\n",
    "\n",
    "    # Lists to store whether a hit occurred for each user\n",
    "    hits_ppr = []\n",
    "    hits_popular = []\n",
    "\n",
    "    # Evaluate the model on the test set\n",
    "    for user, course in test_edges:\n",
    "        hits_ppr.append(course in recommendations_ppr)\n",
    "        hits_popular.append(course in recommendations_popular)\n",
    "\n",
    "    # Compute hit rate by taking the mean of the hits lists\n",
    "    hit_rate_ppr = np.mean(hits_ppr)\n",
    "    hit_rate_popular = np.mean(hits_popular)\n",
    "\n",
    "    # Store the hit rates for this iteration\n",
    "    hit_rates_ppr.append(hit_rate_ppr)\n",
    "    hit_rates_popular.append(hit_rate_popular)\n",
    "\n",
    "# Compute average hit rates\n",
    "average_hit_rate_ppr = np.mean(hit_rates_ppr)\n",
    "average_hit_rate_popular = np.mean(hit_rates_popular)\n",
    "\n",
    "# Print averages\n",
    "print(\"Average Global PPR Hit Rate: \", average_hit_rate_ppr)\n",
    "print(\"Average Popular Courses Hit Rate: \", average_hit_rate_popular)\n",
    "\n",
    "# Create bar chart\n",
    "plt.bar([\"Global PPR\", \"Popular Courses\"], [average_hit_rate_ppr, average_hit_rate_popular])\n",
    "plt.ylabel(\"Average Hit Rate\")\n",
    "plt.title(\"Comparison of Hit Rates for Cold Start Problem\")\n",
    "plt.show()"
   ],
   "metadata": {
    "collapsed": false,
    "ExecuteTime": {
     "start_time": "2023-06-15T13:05:40.466017Z",
     "end_time": "2023-06-15T13:08:48.357781Z"
    }
   }
  },
  {
   "cell_type": "code",
   "execution_count": 20,
   "outputs": [
    {
     "name": "stdout",
     "output_type": "stream",
     "text": [
      "Average Global PPR Hit Rate:  0.4886538461538462\n",
      "Average Popular Courses Hit Rate:  0.46446794871794866\n",
      "Average Global PPR Precision:  0.4886538461538462\n",
      "Average Popular Courses Precision:  0.46446794871794866\n",
      "Average Global PPR Recall:  0.4886538461538462\n",
      "Average Popular Courses Recall:  0.46446794871794866\n"
     ]
    },
    {
     "data": {
      "text/plain": "<Figure size 900x600 with 3 Axes>",
      "image/png": "[encoded data removed]"
     },
     "metadata": {},
     "output_type": "display_data"
    }
   ],
   "source": [
    "# Number of iterations\n",
    "n_iter = 100\n",
    "\n",
    "# Lists to store hit rates, precision, and recall for each method and each iteration\n",
    "hit_rates_ppr = []\n",
    "hit_rates_popular = []\n",
    "precisions_ppr = []\n",
    "precisions_popular = []\n",
    "recalls_ppr = []\n",
    "recalls_popular = []\n",
    "\n",
    "for _ in range(n_iter):\n",
    "    # Split the data\n",
    "    training_graph, test_edges = split_train_test(bipartite_graph, test_size=0.2)\n",
    "\n",
    "    # Generate recommendations based on training data\n",
    "    recommendations_ppr = [course for course, score in recommend_courses_global_ppr(training_graph)[:10]]\n",
    "    recommendations_popular = [course for course, score in recommend_most_popular_courses(training_graph)[:10]]\n",
    "\n",
    "    # Lists to store whether a hit occurred for each user\n",
    "    hits_ppr = []\n",
    "    hits_popular = []\n",
    "\n",
    "    # Number of relevant items\n",
    "    relevant_items = len(test_edges)\n",
    "\n",
    "    # Evaluate the model on the test set\n",
    "    for user, course in test_edges:\n",
    "        hits_ppr.append(course in recommendations_ppr)\n",
    "        hits_popular.append(course in recommendations_popular)\n",
    "\n",
    "    # Compute hit rate, precision and recall\n",
    "    hit_rate_ppr = np.mean(hits_ppr)\n",
    "    hit_rate_popular = np.mean(hits_popular)\n",
    "    precision_ppr = hit_rate_ppr\n",
    "    precision_popular = hit_rate_popular\n",
    "    recall_ppr = sum(hits_ppr) / relevant_items\n",
    "    recall_popular = sum(hits_popular) / relevant_items\n",
    "\n",
    "    # Store the hit rates, precisions and recalls for this iteration\n",
    "    hit_rates_ppr.append(hit_rate_ppr)\n",
    "    hit_rates_popular.append(hit_rate_popular)\n",
    "    precisions_ppr.append(precision_ppr)\n",
    "    precisions_popular.append(precision_popular)\n",
    "    recalls_ppr.append(recall_ppr)\n",
    "    recalls_popular.append(recall_popular)\n",
    "\n",
    "# Compute average hit rates, precisions, and recalls\n",
    "average_hit_rate_ppr = np.mean(hit_rates_ppr)\n",
    "average_hit_rate_popular = np.mean(hit_rates_popular)\n",
    "average_precision_ppr = np.mean(precisions_ppr)\n",
    "average_precision_popular = np.mean(precisions_popular)\n",
    "average_recall_ppr = np.mean(recalls_ppr)\n",
    "average_recall_popular = np.mean(recalls_popular)\n",
    "\n",
    "# Print averages\n",
    "print(\"Average Global PPR Hit Rate: \", average_hit_rate_ppr)\n",
    "print(\"Average Popular Courses Hit Rate: \", average_hit_rate_popular)\n",
    "print(\"Average Global PPR Precision: \", average_precision_ppr)\n",
    "print(\"Average Popular Courses Precision: \", average_precision_popular)\n",
    "print(\"Average Global PPR Recall: \", average_recall_ppr)\n",
    "print(\"Average Popular Courses Recall: \", average_recall_popular)\n",
    "\n",
    "# Create bar chart for hit rates\n",
    "plt.figure(figsize=(9, 6))\n",
    "plt.subplot(131)\n",
    "plt.bar([\"Global PPR\", \"Popular Courses\"], [average_hit_rate_ppr, average_hit_rate_popular])\n",
    "plt.ylabel(\"Average Hit Rate\")\n",
    "plt.title(\"Hit Rates for Cold Start Problem\")\n",
    "\n",
    "# Create bar chart for precision\n",
    "plt.subplot(132)\n",
    "plt.bar([\"Global PPR\", \"Popular Courses\"], [average_precision_ppr, average_precision_popular])\n",
    "plt.ylabel(\"Average Precision\")\n",
    "plt.title(\"Precision for Cold Start Problem\")\n",
    "\n",
    "# Create bar chart for recall\n",
    "plt.subplot(133)\n",
    "plt.bar([\"Global PPR\", \"Popular Courses\"], [average_recall_ppr, average_recall_popular])\n",
    "plt.ylabel(\"Average Recall\")\n",
    "plt.title(\"Recall for Cold Start Problem\")\n",
    "\n",
    "plt.tight_layout()\n",
    "plt.show()\n"
   ],
   "metadata": {
    "collapsed": false,
    "ExecuteTime": {
     "start_time": "2023-06-15T13:21:06.174521Z",
     "end_time": "2023-06-15T13:23:58.419202Z"
    }
   }
  },
  {
   "cell_type": "code",
   "execution_count": 21,
   "outputs": [
    {
     "name": "stdout",
     "output_type": "stream",
     "text": [
      "Average Global PPR Hit Rate:  0.4886538461538462 +- 0.008460809991952369\n",
      "Average Popular Courses Hit Rate:  0.46446794871794866 +- 0.0092806057629208\n"
     ]
    },
    {
     "data": {
      "text/plain": "<Figure size 600x400 with 1 Axes>",
      "image/png": "[encoded data removed]"
     },
     "metadata": {},
     "output_type": "display_data"
    }
   ],
   "source": [
    "# Compute average hit rates\n",
    "average_hit_rate_ppr = np.mean(hit_rates_ppr)\n",
    "average_hit_rate_popular = np.mean(hit_rates_popular)\n",
    "\n",
    "# Compute standard deviations\n",
    "std_hit_rate_ppr = np.std(hit_rates_ppr)\n",
    "std_hit_rate_popular = np.std(hit_rates_popular)\n",
    "\n",
    "# Print averages and standard deviations\n",
    "print(\"Average Global PPR Hit Rate: \", average_hit_rate_ppr, \"+-\", std_hit_rate_ppr)\n",
    "print(\"Average Popular Courses Hit Rate: \", average_hit_rate_popular, \"+-\", std_hit_rate_popular)\n",
    "\n",
    "# Create bar chart for hit rates\n",
    "plt.figure(figsize=(6, 4))\n",
    "plt.bar([\"Global PPR\", \"Popular Courses\"],\n",
    "        [average_hit_rate_ppr, average_hit_rate_popular],\n",
    "        yerr=[std_hit_rate_ppr, std_hit_rate_popular],\n",
    "        capsize=10)\n",
    "plt.ylabel(\"Average Hit Rate\")\n",
    "plt.title(\"Hit Rates for Cold Start Problem\")\n",
    "plt.show()"
   ],
   "metadata": {
    "collapsed": false,
    "ExecuteTime": {
     "start_time": "2023-06-15T13:38:43.321833Z",
     "end_time": "2023-06-15T13:38:43.519832Z"
    }
   }
  },
  {
   "cell_type": "code",
   "execution_count": null,
   "outputs": [],
   "source": [],
   "metadata": {
    "collapsed": false
   }
  }
 ],
 "metadata": {
  "kernelspec": {
   "display_name": "Python 3 (ipykernel)",
   "language": "python",
   "name": "python3"
  },
  "language_info": {
   "codemirror_mode": {
    "name": "ipython",
    "version": 3
   },
   "file_extension": ".py",
   "mimetype": "text/x-python",
   "name": "python",
   "nbconvert_exporter": "python",
   "pygments_lexer": "ipython3",
   "version": "3.9.13"
  }
 },
 "nbformat": 4,
 "nbformat_minor": 1
}
