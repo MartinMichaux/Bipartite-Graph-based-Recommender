{
 "cells": [
  {
   "cell_type": "code",
   "execution_count": 1,
   "metadata": {
    "ExecuteTime": {
     "start_time": "2023-06-15T00:30:27.921842Z",
     "end_time": "2023-06-15T00:30:29.832209Z"
    }
   },
   "outputs": [],
   "source": [
    "import numpy as np\n",
    "import pandas as pd\n",
    "import networkx as nx\n",
    "import matplotlib.pyplot as plt\n",
    "import pickle"
   ]
  },
  {
   "cell_type": "code",
   "execution_count": 2,
   "metadata": {
    "ExecuteTime": {
     "start_time": "2023-06-15T00:30:29.838209Z",
     "end_time": "2023-06-15T00:30:30.444445Z"
    }
   },
   "outputs": [
    {
     "name": "stdout",
     "output_type": "stream",
     "text": [
      "Graph with 527 nodes and 19056 edges\n",
      "Graph with 1000 nodes and 323055 edges\n"
     ]
    }
   ],
   "source": [
    "with open('graphs/course_graph.pickle', \"rb\") as file:\n",
    "    course_graph = pickle.load(file)\n",
    "    \n",
    "print(course_graph)\n",
    "\n",
    "with open('graphs/user_graph.pickle', \"rb\") as file:\n",
    "    user_graph = pickle.load(file)\n",
    "    \n",
    "print(user_graph)"
   ]
  },
  {
   "attachments": {},
   "cell_type": "markdown",
   "metadata": {},
   "source": [
    "### Analyse graphs"
   ]
  },
  {
   "cell_type": "code",
   "execution_count": 3,
   "metadata": {
    "ExecuteTime": {
     "start_time": "2023-06-15T00:30:30.448413Z",
     "end_time": "2023-06-15T00:30:30.460168Z"
    }
   },
   "outputs": [
    {
     "name": "stdout",
     "output_type": "stream",
     "text": [
      "0.8625118144890729 0.3532432432432432\n"
     ]
    }
   ],
   "source": [
    "def get_sparsity(G):\n",
    "    num_nodes = len(G.nodes())\n",
    "    num_edges = len(G.edges())\n",
    "    return 1.0 - (2.0 * num_edges) / (num_nodes * (num_nodes - 1))\n",
    "    \n",
    "print(get_sparsity(course_graph),get_sparsity(user_graph))"
   ]
  },
  {
   "attachments": {},
   "cell_type": "markdown",
   "metadata": {},
   "source": [
    "### Create bipartite graph"
   ]
  },
  {
   "cell_type": "code",
   "execution_count": 4,
   "metadata": {
    "ExecuteTime": {
     "start_time": "2023-06-15T00:30:30.469184Z",
     "end_time": "2023-06-15T00:30:33.567639Z"
    }
   },
   "outputs": [],
   "source": [
    "# Step 1: Create an empty bipartite graph\n",
    "bipartite_graph = nx.Graph()\n",
    "\n",
    "# Step 2: Add course nodes to the bipartite graph with attributes\n",
    "for course_node, course_attrs in course_graph.nodes(data=True):\n",
    "    bipartite_graph.add_node(course_node, bipartite=0, node_id=course_node, **course_attrs)\n",
    "\n",
    "# Step 3: Add user nodes to the bipartite graph with attributes\n",
    "for user_node, user_attrs in user_graph.nodes(data=True):\n",
    "    bipartite_graph.add_node(user_node, bipartite=1, **user_attrs)\n",
    "\n",
    "    # Extract the list of course IDs for the user\n",
    "    course_ids = user_attrs.get('courses', [])\n",
    "    ratings = user_attrs.get('ratings', [])\n",
    "    positive_sentiments = user_attrs.get('positive_sentiments', [])\n",
    "    neutral_sentiments = user_attrs.get('neutral_sentiments', [])\n",
    "    negative_sentiments = user_attrs.get('negative_sentiments', [])\n",
    "\n",
    "    # Create edges between user and corresponding courses if they exist\n",
    "    for counter, course_id in enumerate(course_ids):\n",
    "        for node in bipartite_graph.nodes():\n",
    "            if bipartite_graph.nodes[node]['bipartite'] == 0 and bipartite_graph.nodes[node]['id'] == course_id:\n",
    "                combined_weight = (ratings[counter] * positive_sentiments[counter]) - negative_sentiments[counter] * ratings[counter]\n",
    "                bipartite_graph.add_edge(user_node, node, rating=ratings[counter], positive_sentiment=positive_sentiments[counter],\n",
    "                                         neutral_sentiment=neutral_sentiments[counter], negative_sentiment=negative_sentiments[counter], weight=combined_weight)\n",
    "                break\n",
    "\n",
    "\n",
    "# Step 4: Add edges between courses if they exist\n",
    "for source, target, edge_attrs in course_graph.edges(data=True):\n",
    "    if source in bipartite_graph and target in bipartite_graph:\n",
    "        bipartite_graph.add_edge(source, target, **edge_attrs)\n",
    "\n",
    "# Step 5: Add edges between users if they exist\n",
    "for source, target, edge_attrs in user_graph.edges(data=True):\n",
    "    if source in bipartite_graph and target in bipartite_graph:\n",
    "        bipartite_graph.add_edge(source, target, **edge_attrs)\n"
   ]
  },
  {
   "cell_type": "code",
   "execution_count": 5,
   "metadata": {
    "ExecuteTime": {
     "start_time": "2023-06-15T00:30:33.568639Z",
     "end_time": "2023-06-15T00:30:34.371714Z"
    }
   },
   "outputs": [
    {
     "name": "stdout",
     "output_type": "stream",
     "text": [
      "Graph with 1527 nodes and 347929 edges\n",
      "Number of course nodes: 527\n",
      "Number of course edges: 24874\n",
      "Number of user nodes: 1000\n",
      "Number of user edges: 323055\n",
      "Number of edges between the two networks: 2909\n"
     ]
    }
   ],
   "source": [
    "print(bipartite_graph)\n",
    "\n",
    "# Count the number of course nodes\n",
    "course_nodes = [node for node in bipartite_graph.nodes() if bipartite_graph.nodes[node]['bipartite'] == 0]\n",
    "course_edges = [edge for edge in bipartite_graph.edges() if bipartite_graph.nodes[edge[0]]['bipartite'] == 0]\n",
    "print(\"Number of course nodes:\", len(course_nodes))\n",
    "print(\"Number of course edges:\", len(course_edges))\n",
    "\n",
    "# Count the number of user nodes\n",
    "user_nodes = [node for node in bipartite_graph.nodes() if bipartite_graph.nodes[node]['bipartite'] == 1]\n",
    "user_edges = [edge for edge in bipartite_graph.edges() if bipartite_graph.nodes[edge[0]]['bipartite'] == 1]\n",
    "print(\"Number of user nodes:\", len(user_nodes))\n",
    "print(\"Number of user edges:\", len(user_edges))\n",
    "\n",
    "# Initialize the edge count\n",
    "edge_count = 0\n",
    "\n",
    "# Iterate over the edges of the bipartite graph\n",
    "for edge in bipartite_graph.edges():\n",
    "    # Check if the nodes belong to different bipartite sets\n",
    "    if bipartite_graph.nodes[edge[0]]['bipartite'] != bipartite_graph.nodes[edge[1]]['bipartite']:\n",
    "        edge_count += 1\n",
    "\n",
    "# Print the number of edges between the two networks\n",
    "print(\"Number of edges between the two networks:\", edge_count // 2)"
   ]
  },
  {
   "cell_type": "code",
   "execution_count": 6,
   "metadata": {
    "ExecuteTime": {
     "start_time": "2023-06-15T00:30:34.375747Z",
     "end_time": "2023-06-15T00:30:34.387994Z"
    }
   },
   "outputs": [
    {
     "name": "stdout",
     "output_type": "stream",
     "text": [
      "6834\n"
     ]
    }
   ],
   "source": [
    "# check if the number of between edges makes sense\n",
    "\n",
    "count=0\n",
    "for user_node, user_attrs in user_graph.nodes(data=True):\n",
    "    count+=len(user_attrs.get('courses', []))\n",
    "\n",
    "print(count)"
   ]
  },
  {
   "cell_type": "code",
   "execution_count": 7,
   "metadata": {
    "ExecuteTime": {
     "start_time": "2023-06-15T00:30:34.392049Z",
     "end_time": "2023-06-15T00:30:35.941683Z"
    }
   },
   "outputs": [],
   "source": [
    "file_path = \"graphs/bipartite_graph.pickle\"\n",
    "\n",
    "with open(file_path, \"wb\") as file:\n",
    "    pickle.dump(bipartite_graph, file)"
   ]
  },
  {
   "cell_type": "code",
   "execution_count": 8,
   "metadata": {
    "ExecuteTime": {
     "start_time": "2023-06-15T00:30:35.948654Z",
     "end_time": "2023-06-15T00:30:36.887984Z"
    }
   },
   "outputs": [
    {
     "name": "stdout",
     "output_type": "stream",
     "text": [
      "Graph with 1527 nodes and 347929 edges\n"
     ]
    }
   ],
   "source": [
    "with open(file_path, \"rb\") as file:\n",
    "    graph = pickle.load(file)\n",
    "    \n",
    "print(graph)"
   ]
  },
  {
   "attachments": {},
   "cell_type": "markdown",
   "metadata": {},
   "source": [
    "### Check correctness of the graph"
   ]
  },
  {
   "cell_type": "code",
   "execution_count": 9,
   "metadata": {
    "ExecuteTime": {
     "start_time": "2023-06-15T00:30:36.892972Z",
     "end_time": "2023-06-15T00:30:36.998476Z"
    }
   },
   "outputs": [
    {
     "name": "stdout",
     "output_type": "stream",
     "text": [
      "Attributes of neighbors of node Robert S :\n",
      "Node 18: python-operating-system 5\n",
      "-----------------------------\n",
      "Node 80: python-programming-introduction 5\n",
      "-----------------------------\n",
      "Node 190: nanotechnology 5\n",
      "-----------------------------\n",
      "Node 9: linear-algebra-machine-learning 4\n",
      "-----------------------------\n",
      "Node 40: big-data-introduction 3\n",
      "-----------------------------\n",
      "Node 45: probability-intro 5\n",
      "-----------------------------\n",
      "Node 1: programming-languages 5\n",
      "-----------------------------\n",
      "Node 266: smart-cities 5\n",
      "-----------------------------\n",
      "Node 383: duke-programming-web 5\n",
      "-----------------------------\n",
      "Node 63: python 5\n",
      "-----------------------------\n",
      "Node 232: grammar-punctuation 5\n",
      "-----------------------------\n",
      "Node 450: quantitative-methods 5\n",
      "-----------------------------\n",
      "Node 539: python-data-visualization 2\n",
      "-----------------------------\n",
      "Node 413: what-is-datascience 5\n",
      "-----------------------------\n",
      "Node 260: computer-networking 4\n",
      "-----------------------------\n",
      "Node 417: classification-vector-spaces-in-nlp 4\n",
      "-----------------------------\n",
      "Node 375: data-scientists-tools 4\n",
      "-----------------------------\n",
      "Node 337: python-machine-learning 1\n",
      "-----------------------------\n",
      "Node 370: nand2tetris2 5\n",
      "-----------------------------\n",
      "Node 321: html-css-javascript-for-web-developers 5\n",
      "-----------------------------\n",
      "Node 350: global-energy 5\n",
      "-----------------------------\n",
      "Node 332: positive-psychology 5\n",
      "-----------------------------\n",
      "Node 411: python-databases 5\n",
      "-----------------------------\n",
      "Node 35: python-data 5\n",
      "-----------------------------\n",
      "Node 382: python-network-data 5\n",
      "-----------------------------\n",
      "Node 71: cloud-infrastructure-design-process 5\n",
      "-----------------------------\n",
      "Node 147: python-crash-course 5\n",
      "-----------------------------\n",
      "Node 46: big-history 5\n",
      "-----------------------------\n",
      "Node 454: os-power-user 4\n",
      "-----------------------------\n",
      "Node 537: gte-sustainable-cities 5\n",
      "-----------------------------\n",
      "Node 385: introcss 5\n",
      "-----------------------------\n",
      "Node 145: neural-networks-deep-learning 5\n",
      "-----------------------------\n",
      "Node 74: practical-time-series-analysis 5\n",
      "-----------------------------\n",
      "Node 159: learning-how-to-learn 5\n",
      "-----------------------------\n",
      "Node 465: gcp-big-data-ml-fundamentals 4\n",
      "-----------------------------\n",
      "Node 328: strategic-management 5\n",
      "-----------------------------\n",
      "Node 342: the-science-of-well-being 5\n",
      "-----------------------------\n",
      "Node 42: renewable-energy-entrepreneurship 5\n",
      "-----------------------------\n",
      "Node 153: python-data-analysis 3\n",
      "-----------------------------\n",
      "Node 243: project-planning 5\n",
      "-----------------------------\n",
      "Node 249: learn-to-program 5\n",
      "-----------------------------\n",
      "Node 176: technical-support-fundamentals 5\n",
      "-----------------------------\n",
      "Node 524: negotiation 5\n",
      "-----------------------------\n",
      "-----------------------------\n",
      "-----------------------------\n",
      "-----------------------------\n",
      "-----------------------------\n",
      "-----------------------------\n"
     ]
    }
   ],
   "source": [
    "# Specify the node for which you want to find the neighborhood\n",
    "node = 'Robert S'\n",
    "\n",
    "# Get the neighborhood of the node\n",
    "neighborhood = list(nx.neighbors(bipartite_graph, node))\n",
    "\n",
    "# Print the attributes of each neighbor\n",
    "print(\"Attributes of neighbors of node\", node, \":\")\n",
    "for neighbor in neighborhood:\n",
    "    if bipartite_graph.nodes[neighbor]['bipartite'] == 0:\n",
    "        attributes = bipartite_graph.nodes[neighbor]\n",
    "        print(f\"Node {neighbor}:\",bipartite_graph.nodes[neighbor]['id'],bipartite_graph.edges[(node, neighbor)]['rating'])\n",
    "        \n",
    "    print('-----------------------------')"
   ]
  },
  {
   "cell_type": "code",
   "execution_count": 10,
   "metadata": {
    "ExecuteTime": {
     "start_time": "2023-06-15T00:30:36.925507Z",
     "end_time": "2023-06-15T00:30:41.118763Z"
    }
   },
   "outputs": [],
   "source": [
    "reviews=pd.read_csv('data/Coursera_reviews.csv')"
   ]
  }
 ],
 "metadata": {
  "kernelspec": {
   "display_name": "base",
   "language": "python",
   "name": "python3"
  },
  "language_info": {
   "codemirror_mode": {
    "name": "ipython",
    "version": 3
   },
   "file_extension": ".py",
   "mimetype": "text/x-python",
   "name": "python",
   "nbconvert_exporter": "python",
   "pygments_lexer": "ipython3",
   "version": "3.9.12"
  },
  "orig_nbformat": 4
 },
 "nbformat": 4,
 "nbformat_minor": 2
}
