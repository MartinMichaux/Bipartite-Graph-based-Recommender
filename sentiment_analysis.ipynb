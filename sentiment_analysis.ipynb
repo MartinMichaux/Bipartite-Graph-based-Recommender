{
 "cells": [
  {
   "cell_type": "code",
   "execution_count": 2,
   "metadata": {
    "ExecuteTime": {
     "end_time": "2023-05-23T19:26:59.061740Z",
     "start_time": "2023-05-23T19:26:58.798463Z"
    },
    "collapsed": true
   },
   "outputs": [
    {
     "name": "stderr",
     "output_type": "stream",
     "text": [
      "WARNING: Ignoring invalid distribution -rotobuf (c:\\users\\marti\\anaconda3\\lib\\site-packages)\n",
      "WARNING: Ignoring invalid distribution -rotobuf (c:\\users\\marti\\anaconda3\\lib\\site-packages)\n",
      "WARNING: Ignoring invalid distribution -rotobuf (c:\\users\\marti\\anaconda3\\lib\\site-packages)\n",
      "WARNING: Ignoring invalid distribution -rotobuf (c:\\users\\marti\\anaconda3\\lib\\site-packages)\n",
      "WARNING: Ignoring invalid distribution -rotobuf (c:\\users\\marti\\anaconda3\\lib\\site-packages)\n",
      "WARNING: Ignoring invalid distribution -rotobuf (c:\\users\\marti\\anaconda3\\lib\\site-packages)\n"
     ]
    }
   ],
   "source": [
    "!pip install -q transformers\n"
   ]
  },
  {
   "cell_type": "code",
   "execution_count": 3,
   "metadata": {
    "ExecuteTime": {
     "end_time": "2023-05-23T19:02:09.508220Z",
     "start_time": "2023-05-23T19:02:01.098622Z"
    }
   },
   "outputs": [
    {
     "data": {
      "application/vnd.jupyter.widget-view+json": {
       "model_id": "8bd6395a211248b6a7afa2662d5cd440",
       "version_major": 2,
       "version_minor": 0
      },
      "text/plain": [
       "Downloading (…)lve/main/config.json:   0%|          | 0.00/929 [00:00<?, ?B/s]"
      ]
     },
     "metadata": {},
     "output_type": "display_data"
    },
    {
     "name": "stderr",
     "output_type": "stream",
     "text": [
      "c:\\Users\\marti\\anaconda3\\lib\\site-packages\\huggingface_hub\\file_download.py:133: UserWarning: `huggingface_hub` cache-system uses symlinks by default to efficiently store duplicated files but your machine does not support them in C:\\Users\\marti\\.cache\\huggingface\\hub. Caching files will still work but in a degraded version that might require more space on your disk. This warning can be disabled by setting the `HF_HUB_DISABLE_SYMLINKS_WARNING` environment variable. For more details, see https://huggingface.co/docs/huggingface_hub/how-to-cache#limitations.\n",
      "To support symlinks on Windows, you either need to activate Developer Mode or to run Python as an administrator. In order to see activate developer mode, see this article: https://docs.microsoft.com/en-us/windows/apps/get-started/enable-your-device-for-development\n",
      "  warnings.warn(message)\n"
     ]
    },
    {
     "data": {
      "application/vnd.jupyter.widget-view+json": {
       "model_id": "2f1892dfb41046058f5463f7c1d07c32",
       "version_major": 2,
       "version_minor": 0
      },
      "text/plain": [
       "Downloading (…)olve/main/vocab.json:   0%|          | 0.00/899k [00:00<?, ?B/s]"
      ]
     },
     "metadata": {},
     "output_type": "display_data"
    },
    {
     "data": {
      "application/vnd.jupyter.widget-view+json": {
       "model_id": "0ea84f5fc2bb43b18ce4266c6d2cd13d",
       "version_major": 2,
       "version_minor": 0
      },
      "text/plain": [
       "Downloading (…)olve/main/merges.txt:   0%|          | 0.00/456k [00:00<?, ?B/s]"
      ]
     },
     "metadata": {},
     "output_type": "display_data"
    },
    {
     "data": {
      "application/vnd.jupyter.widget-view+json": {
       "model_id": "b62efae655c844b29206cc90df97ccf4",
       "version_major": 2,
       "version_minor": 0
      },
      "text/plain": [
       "Downloading (…)cial_tokens_map.json:   0%|          | 0.00/239 [00:00<?, ?B/s]"
      ]
     },
     "metadata": {},
     "output_type": "display_data"
    },
    {
     "data": {
      "application/vnd.jupyter.widget-view+json": {
       "model_id": "a0be450fc6134a12ac9f3b7a251a9da9",
       "version_major": 2,
       "version_minor": 0
      },
      "text/plain": [
       "Downloading pytorch_model.bin:   0%|          | 0.00/501M [00:00<?, ?B/s]"
      ]
     },
     "metadata": {},
     "output_type": "display_data"
    },
    {
     "name": "stderr",
     "output_type": "stream",
     "text": [
      "Some weights of the model checkpoint at cardiffnlp/twitter-roberta-base-sentiment-latest were not used when initializing RobertaForSequenceClassification: ['roberta.pooler.dense.weight', 'roberta.pooler.dense.bias']\n",
      "- This IS expected if you are initializing RobertaForSequenceClassification from the checkpoint of a model trained on another task or with another architecture (e.g. initializing a BertForSequenceClassification model from a BertForPreTraining model).\n",
      "- This IS NOT expected if you are initializing RobertaForSequenceClassification from the checkpoint of a model that you expect to be exactly identical (initializing a BertForSequenceClassification model from a BertForSequenceClassification model).\n"
     ]
    }
   ],
   "source": [
    "from transformers import AutoTokenizer, AutoModelForSequenceClassification\n",
    "from transformers import TFAutoModelForSequenceClassification\n",
    "import numpy as np\n",
    "from scipy.special import softmax\n",
    "import csv\n",
    "import urllib.request\n",
    "import pandas as pd\n",
    "\n",
    "tokenizer = AutoTokenizer.from_pretrained(\"cardiffnlp/twitter-roberta-base-sentiment-latest\")\n",
    "\n",
    "model = AutoModelForSequenceClassification.from_pretrained(\"cardiffnlp/twitter-roberta-base-sentiment-latest\")"
   ]
  },
  {
   "cell_type": "code",
   "execution_count": 4,
   "metadata": {
    "ExecuteTime": {
     "end_time": "2023-05-23T19:56:58.549923Z",
     "start_time": "2023-05-23T19:56:58.534894Z"
    }
   },
   "outputs": [],
   "source": [
    "model\n",
    "tokenizer.model_max_length = 1071\n"
   ]
  },
  {
   "cell_type": "code",
   "execution_count": 5,
   "metadata": {
    "ExecuteTime": {
     "end_time": "2023-05-23T19:04:45.267901Z",
     "start_time": "2023-05-23T19:04:45.045283Z"
    }
   },
   "outputs": [],
   "source": [
    "# download label mapping\n",
    "task='sentiment'\n",
    "labels=[]\n",
    "mapping_link = f\"https://raw.githubusercontent.com/cardiffnlp/tweeteval/main/datasets/{task}/mapping.txt\"\n",
    "with urllib.request.urlopen(mapping_link) as f:\n",
    "    html = f.read().decode('utf-8').split(\"\\n\")\n",
    "    csvreader = csv.reader(html, delimiter='\\t')\n",
    "labels = [row[1] for row in csvreader if len(row) > 1]"
   ]
  },
  {
   "cell_type": "code",
   "execution_count": 6,
   "metadata": {
    "ExecuteTime": {
     "end_time": "2023-05-23T19:04:52.542984Z",
     "start_time": "2023-05-23T19:04:52.520985Z"
    }
   },
   "outputs": [
    {
     "data": {
      "text/plain": [
       "['negative', 'neutral', 'positive']"
      ]
     },
     "execution_count": 6,
     "metadata": {},
     "output_type": "execute_result"
    }
   ],
   "source": [
    "labels"
   ]
  },
  {
   "cell_type": "code",
   "execution_count": 7,
   "metadata": {
    "ExecuteTime": {
     "end_time": "2023-05-23T19:11:55.153553Z",
     "start_time": "2023-05-23T19:11:55.078033Z"
    }
   },
   "outputs": [
    {
     "name": "stdout",
     "output_type": "stream",
     "text": [
      "1) neutral 0.5085\n",
      "2) positive 0.479\n",
      "3) negative 0.0125\n"
     ]
    }
   ],
   "source": [
    "encoded_input = tokenizer(\"The sun is out\", return_tensors='pt')\n",
    "output = model(**encoded_input)\n",
    "scores = output[0][0].detach().numpy()\n",
    "scores = softmax(scores)\n",
    "ranking = np.argsort(scores)\n",
    "ranking = ranking[::-1]\n",
    "for i in range(scores.shape[0]):\n",
    "    l = labels[ranking[i]]\n",
    "    s = scores[ranking[i]]\n",
    "    print(f\"{i+1}) {l} {np.round(float(s), 4)}\")"
   ]
  },
  {
   "cell_type": "code",
   "execution_count": 8,
   "metadata": {
    "ExecuteTime": {
     "end_time": "2023-05-23T19:11:00.308381Z",
     "start_time": "2023-05-23T19:11:00.298381Z"
    }
   },
   "outputs": [
    {
     "data": {
      "text/plain": [
       "array([1, 2, 0], dtype=int64)"
      ]
     },
     "execution_count": 8,
     "metadata": {},
     "output_type": "execute_result"
    }
   ],
   "source": [
    "ranking"
   ]
  },
  {
   "cell_type": "code",
   "execution_count": 9,
   "metadata": {
    "ExecuteTime": {
     "end_time": "2023-05-23T20:03:18.484069Z",
     "start_time": "2023-05-23T20:03:18.455062Z"
    }
   },
   "outputs": [],
   "source": [
    "def review_sentiment(review: str):\n",
    "    encoded_input = tokenizer(review, return_tensors='pt', truncation=True, max_length=512)\n",
    "    output = model(**encoded_input)\n",
    "    scores = output.logits.detach().numpy()[0]\n",
    "    scores = np.exp(scores) / np.sum(np.exp(scores))\n",
    "    ranking = np.argsort(scores)[::-1]\n",
    "    ans = [(labels[i], scores[i]) for i in ranking]\n",
    "    return ans"
   ]
  },
  {
   "cell_type": "code",
   "execution_count": 10,
   "metadata": {
    "ExecuteTime": {
     "end_time": "2023-05-23T19:24:45.148376Z",
     "start_time": "2023-05-23T19:24:45.057780Z"
    }
   },
   "outputs": [
    {
     "data": {
      "text/plain": [
       "[('positive', 0.8134766), ('neutral', 0.17542176), ('negative', 0.011101609)]"
      ]
     },
     "execution_count": 10,
     "metadata": {},
     "output_type": "execute_result"
    }
   ],
   "source": [
    "review_sentiment(\"Hello!\")"
   ]
  },
  {
   "cell_type": "code",
   "execution_count": 11,
   "metadata": {
    "ExecuteTime": {
     "end_time": "2023-05-23T19:27:19.515267Z",
     "start_time": "2023-05-23T19:27:16.778060Z"
    }
   },
   "outputs": [],
   "source": [
    "df=pd.read_csv('data/Coursera_reviews.csv')"
   ]
  },
  {
   "cell_type": "code",
   "execution_count": 12,
   "metadata": {
    "ExecuteTime": {
     "end_time": "2023-05-23T19:29:10.964940Z",
     "start_time": "2023-05-23T19:29:10.939943Z"
    }
   },
   "outputs": [],
   "source": [
    "df['positive'] = 0\n",
    "\n",
    "# Add the 'neutral' column with default values\n",
    "df['neutral'] = 0\n",
    "\n",
    "# Add the 'negative' column with default values\n",
    "df['negative'] = 0"
   ]
  },
  {
   "cell_type": "code",
   "execution_count": 13,
   "metadata": {
    "ExecuteTime": {
     "end_time": "2023-05-23T19:29:34.384098Z",
     "start_time": "2023-05-23T19:29:34.371099Z"
    }
   },
   "outputs": [
    {
     "data": {
      "text/plain": [
       "['reviews',\n",
       " 'reviewers',\n",
       " 'date_reviews',\n",
       " 'rating',\n",
       " 'course_id',\n",
       " 'positive',\n",
       " 'neutral',\n",
       " 'negative']"
      ]
     },
     "execution_count": 13,
     "metadata": {},
     "output_type": "execute_result"
    }
   ],
   "source": [
    "df.columns.tolist()"
   ]
  },
  {
   "cell_type": "code",
   "execution_count": 14,
   "metadata": {
    "ExecuteTime": {
     "end_time": "2023-05-23T19:35:16.747694Z",
     "start_time": "2023-05-23T19:35:16.720682Z"
    }
   },
   "outputs": [],
   "source": [
    "# Define a function to apply review_sentiment to each row\n",
    "def apply_review_sentiment(row):\n",
    "    review = row['reviews']\n",
    "    sentiment_scores = review_sentiment(review)\n",
    "    for sentiment, score in sentiment_scores:\n",
    "        row[sentiment] = score\n",
    "    return row"
   ]
  },
  {
   "cell_type": "code",
   "execution_count": 15,
   "metadata": {
    "ExecuteTime": {
     "end_time": "2023-05-23T21:40:46.412734Z",
     "start_time": "2023-05-23T21:40:41.319974Z"
    }
   },
   "outputs": [],
   "source": [
    "df = df.head(100)\n",
    "df = df.apply(apply_review_sentiment, axis=1)"
   ]
  },
  {
   "cell_type": "code",
   "execution_count": 16,
   "metadata": {
    "ExecuteTime": {
     "end_time": "2023-05-23T21:40:51.411959Z",
     "start_time": "2023-05-23T21:40:51.377962Z"
    }
   },
   "outputs": [
    {
     "data": {
      "text/html": [
       "<div>\n",
       "<style scoped>\n",
       "    .dataframe tbody tr th:only-of-type {\n",
       "        vertical-align: middle;\n",
       "    }\n",
       "\n",
       "    .dataframe tbody tr th {\n",
       "        vertical-align: top;\n",
       "    }\n",
       "\n",
       "    .dataframe thead th {\n",
       "        text-align: right;\n",
       "    }\n",
       "</style>\n",
       "<table border=\"1\" class=\"dataframe\">\n",
       "  <thead>\n",
       "    <tr style=\"text-align: right;\">\n",
       "      <th></th>\n",
       "      <th>reviews</th>\n",
       "      <th>reviewers</th>\n",
       "      <th>date_reviews</th>\n",
       "      <th>rating</th>\n",
       "      <th>course_id</th>\n",
       "      <th>positive</th>\n",
       "      <th>neutral</th>\n",
       "      <th>negative</th>\n",
       "    </tr>\n",
       "  </thead>\n",
       "  <tbody>\n",
       "    <tr>\n",
       "      <th>0</th>\n",
       "      <td>Pretty dry, but I was able to pass with just t...</td>\n",
       "      <td>By Robert S</td>\n",
       "      <td>Feb 12, 2020</td>\n",
       "      <td>4</td>\n",
       "      <td>google-cbrs-cpi-training</td>\n",
       "      <td>0.628795</td>\n",
       "      <td>0.206076</td>\n",
       "      <td>0.165129</td>\n",
       "    </tr>\n",
       "    <tr>\n",
       "      <th>1</th>\n",
       "      <td>would be a better experience if the video and ...</td>\n",
       "      <td>By Gabriel E R</td>\n",
       "      <td>Sep 28, 2020</td>\n",
       "      <td>4</td>\n",
       "      <td>google-cbrs-cpi-training</td>\n",
       "      <td>0.068340</td>\n",
       "      <td>0.768785</td>\n",
       "      <td>0.162875</td>\n",
       "    </tr>\n",
       "    <tr>\n",
       "      <th>2</th>\n",
       "      <td>Information was perfect! The program itself wa...</td>\n",
       "      <td>By Jacob D</td>\n",
       "      <td>Apr 08, 2020</td>\n",
       "      <td>4</td>\n",
       "      <td>google-cbrs-cpi-training</td>\n",
       "      <td>0.710999</td>\n",
       "      <td>0.214451</td>\n",
       "      <td>0.074550</td>\n",
       "    </tr>\n",
       "    <tr>\n",
       "      <th>3</th>\n",
       "      <td>A few grammatical mistakes on test made me do ...</td>\n",
       "      <td>By Dale B</td>\n",
       "      <td>Feb 24, 2020</td>\n",
       "      <td>4</td>\n",
       "      <td>google-cbrs-cpi-training</td>\n",
       "      <td>0.168156</td>\n",
       "      <td>0.438748</td>\n",
       "      <td>0.393096</td>\n",
       "    </tr>\n",
       "    <tr>\n",
       "      <th>4</th>\n",
       "      <td>Excellent course and the training provided was...</td>\n",
       "      <td>By Sean G</td>\n",
       "      <td>Jun 18, 2020</td>\n",
       "      <td>4</td>\n",
       "      <td>google-cbrs-cpi-training</td>\n",
       "      <td>0.978909</td>\n",
       "      <td>0.016020</td>\n",
       "      <td>0.005071</td>\n",
       "    </tr>\n",
       "    <tr>\n",
       "      <th>...</th>\n",
       "      <td>...</td>\n",
       "      <td>...</td>\n",
       "      <td>...</td>\n",
       "      <td>...</td>\n",
       "      <td>...</td>\n",
       "      <td>...</td>\n",
       "      <td>...</td>\n",
       "      <td>...</td>\n",
       "    </tr>\n",
       "    <tr>\n",
       "      <th>95</th>\n",
       "      <td>Poorly produced.</td>\n",
       "      <td>By Tahseen S</td>\n",
       "      <td>Mar 11, 2020</td>\n",
       "      <td>1</td>\n",
       "      <td>financial-markets-global</td>\n",
       "      <td>0.010035</td>\n",
       "      <td>0.081914</td>\n",
       "      <td>0.908052</td>\n",
       "    </tr>\n",
       "    <tr>\n",
       "      <th>96</th>\n",
       "      <td>I find the professor is hard to understand bec...</td>\n",
       "      <td>By David S</td>\n",
       "      <td>May 28, 2020</td>\n",
       "      <td>1</td>\n",
       "      <td>financial-markets-global</td>\n",
       "      <td>0.005719</td>\n",
       "      <td>0.065606</td>\n",
       "      <td>0.928674</td>\n",
       "    </tr>\n",
       "    <tr>\n",
       "      <th>97</th>\n",
       "      <td>Don't waste your time! It's unstructured pile ...</td>\n",
       "      <td>By Sergey F</td>\n",
       "      <td>May 02, 2020</td>\n",
       "      <td>1</td>\n",
       "      <td>financial-markets-global</td>\n",
       "      <td>0.015717</td>\n",
       "      <td>0.146580</td>\n",
       "      <td>0.837703</td>\n",
       "    </tr>\n",
       "    <tr>\n",
       "      <th>98</th>\n",
       "      <td>too short videos</td>\n",
       "      <td>By Sudiksha</td>\n",
       "      <td>Sep 01, 2019</td>\n",
       "      <td>1</td>\n",
       "      <td>financial-markets-global</td>\n",
       "      <td>0.039034</td>\n",
       "      <td>0.307478</td>\n",
       "      <td>0.653488</td>\n",
       "    </tr>\n",
       "    <tr>\n",
       "      <th>99</th>\n",
       "      <td>As it was highlighted as free course with cert...</td>\n",
       "      <td>By  K</td>\n",
       "      <td>Apr 13, 2020</td>\n",
       "      <td>1</td>\n",
       "      <td>financial-markets-global</td>\n",
       "      <td>0.012842</td>\n",
       "      <td>0.205354</td>\n",
       "      <td>0.781804</td>\n",
       "    </tr>\n",
       "  </tbody>\n",
       "</table>\n",
       "<p>100 rows × 8 columns</p>\n",
       "</div>"
      ],
      "text/plain": [
       "                                              reviews       reviewers   \n",
       "0   Pretty dry, but I was able to pass with just t...     By Robert S  \\\n",
       "1   would be a better experience if the video and ...  By Gabriel E R   \n",
       "2   Information was perfect! The program itself wa...      By Jacob D   \n",
       "3   A few grammatical mistakes on test made me do ...       By Dale B   \n",
       "4   Excellent course and the training provided was...       By Sean G   \n",
       "..                                                ...             ...   \n",
       "95                                  Poorly produced.     By Tahseen S   \n",
       "96  I find the professor is hard to understand bec...      By David S   \n",
       "97  Don't waste your time! It's unstructured pile ...     By Sergey F   \n",
       "98                                   too short videos     By Sudiksha   \n",
       "99  As it was highlighted as free course with cert...           By  K   \n",
       "\n",
       "    date_reviews  rating                 course_id  positive   neutral   \n",
       "0   Feb 12, 2020       4  google-cbrs-cpi-training  0.628795  0.206076  \\\n",
       "1   Sep 28, 2020       4  google-cbrs-cpi-training  0.068340  0.768785   \n",
       "2   Apr 08, 2020       4  google-cbrs-cpi-training  0.710999  0.214451   \n",
       "3   Feb 24, 2020       4  google-cbrs-cpi-training  0.168156  0.438748   \n",
       "4   Jun 18, 2020       4  google-cbrs-cpi-training  0.978909  0.016020   \n",
       "..           ...     ...                       ...       ...       ...   \n",
       "95  Mar 11, 2020       1  financial-markets-global  0.010035  0.081914   \n",
       "96  May 28, 2020       1  financial-markets-global  0.005719  0.065606   \n",
       "97  May 02, 2020       1  financial-markets-global  0.015717  0.146580   \n",
       "98  Sep 01, 2019       1  financial-markets-global  0.039034  0.307478   \n",
       "99  Apr 13, 2020       1  financial-markets-global  0.012842  0.205354   \n",
       "\n",
       "    negative  \n",
       "0   0.165129  \n",
       "1   0.162875  \n",
       "2   0.074550  \n",
       "3   0.393096  \n",
       "4   0.005071  \n",
       "..       ...  \n",
       "95  0.908052  \n",
       "96  0.928674  \n",
       "97  0.837703  \n",
       "98  0.653488  \n",
       "99  0.781804  \n",
       "\n",
       "[100 rows x 8 columns]"
      ]
     },
     "execution_count": 16,
     "metadata": {},
     "output_type": "execute_result"
    }
   ],
   "source": [
    "df"
   ]
  },
  {
   "cell_type": "code",
   "execution_count": null,
   "metadata": {},
   "outputs": [],
   "source": []
  }
 ],
 "metadata": {
  "kernelspec": {
   "display_name": "Python 3 (ipykernel)",
   "language": "python",
   "name": "python3"
  },
  "language_info": {
   "codemirror_mode": {
    "name": "ipython",
    "version": 3
   },
   "file_extension": ".py",
   "mimetype": "text/x-python",
   "name": "python",
   "nbconvert_exporter": "python",
   "pygments_lexer": "ipython3",
   "version": "3.9.12"
  }
 },
 "nbformat": 4,
 "nbformat_minor": 1
}
