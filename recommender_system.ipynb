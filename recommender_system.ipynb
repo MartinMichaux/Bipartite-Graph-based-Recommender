{
 "cells": [
  {
   "cell_type": "code",
   "execution_count": 29,
   "metadata": {},
   "outputs": [],
   "source": [
    "import numpy as np\n",
    "import pandas as pd\n",
    "import networkx as nx\n",
    "import matplotlib.pyplot as plt\n",
    "import pickle"
   ]
  },
  {
   "cell_type": "code",
   "execution_count": 30,
   "metadata": {},
   "outputs": [
    {
     "name": "stdout",
     "output_type": "stream",
     "text": [
      "Graph with 1527 nodes and 25442 edges\n"
     ]
    }
   ],
   "source": [
    "file_path = \"graphs/bipartite_graph.pickle\"\n",
    "\n",
    "with open(file_path, \"rb\") as file:\n",
    "    bipartite_graph = pickle.load(file)\n",
    "    \n",
    "print(bipartite_graph)"
   ]
  },
  {
   "cell_type": "code",
   "execution_count": 31,
   "metadata": {},
   "outputs": [],
   "source": [
    "def compute_recommendation_score(bipartite_graph, user_id, course_node):\n",
    "    # Get the attributes of the user and course nodes\n",
    "    user_attrs = bipartite_graph.nodes[user_id]\n",
    "    course_attrs = bipartite_graph.nodes[course_node]\n",
    "    \n",
    "    print(user_attrs['rating'])\n",
    "    print(course_attrs['rating'])\n",
    "    \n",
    "    # Compute similarity scores based on desired attributes\n",
    "    \n",
    "    # Example 1: Compute similarity based on rating\n",
    "    user_rating = user_attrs.get('rating', 0.0)\n",
    "    course_rating = course_attrs.get('rating', 0.0)\n",
    "    \n",
    "    rating_similarity = abs(user_rating - course_rating)\n",
    "    \n",
    "    # Example 2: Compute similarity based on level\n",
    "    user_level = user_attrs.get('level', '')\n",
    "    course_level = course_attrs.get('level', '')\n",
    "    \n",
    "    level_similarity = 1 if user_level == course_level else 0\n",
    "    \n",
    "    # Example 3: Compute similarity based on skills (Jaccard similarity)\n",
    "    user_skills = set(user_attrs.get('skills', []))\n",
    "    course_skills = set(course_attrs.get('skills', []))\n",
    "    \n",
    "    skills_similarity = len(user_skills.intersection(course_skills)) / len(user_skills.union(course_skills))\n",
    "    \n",
    "    # Example 4: Compute similarity based on tags (Jaccard similarity)\n",
    "    user_tags = set(user_attrs.get('tags', []))\n",
    "    course_tags = set(course_attrs.get('tags', []))\n",
    "    \n",
    "    tags_similarity = len(user_tags.intersection(course_tags)) / len(user_tags.union(course_tags))\n",
    "    \n",
    "    # Compute a weighted average of the similarity scores based on your preference\n",
    "    recommendation_score = (\n",
    "        rating_similarity * 0.3 +\n",
    "        level_similarity * 0.2 +\n",
    "        skills_similarity * 0.25 +\n",
    "        tags_similarity * 0.25\n",
    "    )\n",
    "    \n",
    "    return recommendation_score\n",
    "\n",
    "\n",
    "def recommend_courses(bipartite_graph, user_id, top_k=5):\n",
    "    user_nodes = [node for node in bipartite_graph.nodes() if bipartite_graph.nodes[node]['bipartite'] == 1]\n",
    "    \n",
    "    # Check if the user exists in the bipartite graph\n",
    "    if user_id not in user_nodes:\n",
    "        print(\"User\", user_id, \"does not exist.\")\n",
    "        return []\n",
    "    \n",
    "    # Get the courses taken by the user\n",
    "    user_courses = set(bipartite_graph.neighbors(user_id))\n",
    "    \n",
    "    # Compute recommendation scores for unvisited courses\n",
    "    recommendation_scores = {}\n",
    "    \n",
    "    for course_node in bipartite_graph.nodes():\n",
    "        # Skip user nodes and already taken courses\n",
    "        if bipartite_graph.nodes[course_node]['bipartite'] == 1 or course_node in user_courses:\n",
    "            continue\n",
    "        \n",
    "        # Compute similarity or recommendation score based on node attributes\n",
    "        # You can implement your own logic here based on desired attributes and similarity thresholds\n",
    "        # For example, you can compute similarity based on rating, level, or other features\n",
    "        \n",
    "        # Placeholder function to compute recommendation score\n",
    "        recommendation_score = compute_recommendation_score(bipartite_graph, user_id, course_node)\n",
    "        recommendation_scores[course_node] = recommendation_score\n",
    "    \n",
    "    # Sort courses based on recommendation scores in descending order\n",
    "    sorted_courses = sorted(recommendation_scores.items(), key=lambda x: x[1], reverse=True)\n",
    "    \n",
    "    # Get top-k recommended courses\n",
    "    recommended_courses = [course_id for course_id, _ in sorted_courses[:top_k]]\n",
    "    \n",
    "    return recommended_courses\n"
   ]
  },
  {
   "cell_type": "code",
   "execution_count": 32,
   "metadata": {},
   "outputs": [
    {
     "ename": "KeyError",
     "evalue": "'rating'",
     "output_type": "error",
     "traceback": [
      "\u001b[1;31m---------------------------------------------------------------------------\u001b[0m",
      "\u001b[1;31mKeyError\u001b[0m                                  Traceback (most recent call last)",
      "Cell \u001b[1;32mIn[32], line 3\u001b[0m\n\u001b[0;32m      1\u001b[0m \u001b[39m# Example usage\u001b[39;00m\n\u001b[0;32m      2\u001b[0m user_id \u001b[39m=\u001b[39m \u001b[39m'\u001b[39m\u001b[39mBy Jayson P J\u001b[39m\u001b[39m'\u001b[39m\n\u001b[1;32m----> 3\u001b[0m recommendations \u001b[39m=\u001b[39m recommend_courses(bipartite_graph, user_id, top_k\u001b[39m=\u001b[39;49m\u001b[39m3\u001b[39;49m)\n\u001b[0;32m      4\u001b[0m \u001b[39mprint\u001b[39m(\u001b[39m\"\u001b[39m\u001b[39mRecommendations for user\u001b[39m\u001b[39m\"\u001b[39m, user_id, \u001b[39m\"\u001b[39m\u001b[39m:\u001b[39m\u001b[39m\"\u001b[39m, recommendations)\n",
      "Cell \u001b[1;32mIn[31], line 70\u001b[0m, in \u001b[0;36mrecommend_courses\u001b[1;34m(bipartite_graph, user_id, top_k)\u001b[0m\n\u001b[0;32m     63\u001b[0m         \u001b[39mcontinue\u001b[39;00m\n\u001b[0;32m     65\u001b[0m     \u001b[39m# Compute similarity or recommendation score based on node attributes\u001b[39;00m\n\u001b[0;32m     66\u001b[0m     \u001b[39m# You can implement your own logic here based on desired attributes and similarity thresholds\u001b[39;00m\n\u001b[0;32m     67\u001b[0m     \u001b[39m# For example, you can compute similarity based on rating, level, or other features\u001b[39;00m\n\u001b[0;32m     68\u001b[0m     \n\u001b[0;32m     69\u001b[0m     \u001b[39m# Placeholder function to compute recommendation score\u001b[39;00m\n\u001b[1;32m---> 70\u001b[0m     recommendation_score \u001b[39m=\u001b[39m compute_recommendation_score(bipartite_graph, user_id, course_node)\n\u001b[0;32m     71\u001b[0m     recommendation_scores[course_node] \u001b[39m=\u001b[39m recommendation_score\n\u001b[0;32m     73\u001b[0m \u001b[39m# Sort courses based on recommendation scores in descending order\u001b[39;00m\n",
      "Cell \u001b[1;32mIn[31], line 6\u001b[0m, in \u001b[0;36mcompute_recommendation_score\u001b[1;34m(bipartite_graph, user_id, course_node)\u001b[0m\n\u001b[0;32m      3\u001b[0m user_attrs \u001b[39m=\u001b[39m bipartite_graph\u001b[39m.\u001b[39mnodes[user_id]\n\u001b[0;32m      4\u001b[0m course_attrs \u001b[39m=\u001b[39m bipartite_graph\u001b[39m.\u001b[39mnodes[course_node]\n\u001b[1;32m----> 6\u001b[0m \u001b[39mprint\u001b[39m(user_attrs[\u001b[39m'\u001b[39;49m\u001b[39mrating\u001b[39;49m\u001b[39m'\u001b[39;49m])\n\u001b[0;32m      7\u001b[0m \u001b[39mprint\u001b[39m(course_attrs[\u001b[39m'\u001b[39m\u001b[39mrating\u001b[39m\u001b[39m'\u001b[39m])\n\u001b[0;32m      9\u001b[0m \u001b[39m# Compute similarity scores based on desired attributes\u001b[39;00m\n\u001b[0;32m     10\u001b[0m \n\u001b[0;32m     11\u001b[0m \u001b[39m# Example 1: Compute similarity based on rating\u001b[39;00m\n",
      "\u001b[1;31mKeyError\u001b[0m: 'rating'"
     ]
    }
   ],
   "source": [
    "# Example usage\n",
    "user_id = 'By Jayson P J'\n",
    "recommendations = recommend_courses(bipartite_graph, user_id, top_k=3)\n",
    "print(\"Recommendations for user\", user_id, \":\", recommendations)"
   ]
  }
 ],
 "metadata": {
  "kernelspec": {
   "display_name": "base",
   "language": "python",
   "name": "python3"
  },
  "language_info": {
   "codemirror_mode": {
    "name": "ipython",
    "version": 3
   },
   "file_extension": ".py",
   "mimetype": "text/x-python",
   "name": "python",
   "nbconvert_exporter": "python",
   "pygments_lexer": "ipython3",
   "version": "3.9.12"
  },
  "orig_nbformat": 4
 },
 "nbformat": 4,
 "nbformat_minor": 2
}
